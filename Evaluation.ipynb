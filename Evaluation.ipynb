{
 "cells": [
  {
   "cell_type": "code",
   "execution_count": 6,
   "id": "cd8ce5c8-37a4-4999-ade6-96a0ddf2b3eb",
   "metadata": {},
   "outputs": [],
   "source": [
    "import pandas as pd\n",
    "\n",
    "data = [\n",
    "    {\"Query\": \"Anime-inspired ARPGs on Switch\", \"Title\": \"The Legend of Zelda: Tears of the Kingdom\", \"SystemScore\": 1.0697231, \"ManualScore\": 3},\n",
    "    {\"Query\": \"Anime-inspired ARPGs on Switch\", \"Title\": \"Xenoblade Chronicles: Definitive Edition\", \"SystemScore\": 0.9912107, \"ManualScore\": 3},\n",
    "    {\"Query\": \"Anime-inspired ARPGs on Switch\", \"Title\": \"Super Mario Odyssey\", \"SystemScore\": 0.9689998, \"ManualScore\": 2},\n",
    "    {\"Query\": \"Anime-inspired ARPGs on Switch\", \"Title\": \"Xenoblade Chronicles 2\", \"SystemScore\": 0.9551377, \"ManualScore\": 3},\n",
    "    {\"Query\": \"Anime-inspired ARPGs on Switch\", \"Title\": \"Grandia HD Collection\", \"SystemScore\": 0.9410773, \"ManualScore\": 3},\n",
    "    {\"Query\": \"Anime-inspired ARPGs on Switch\", \"Title\": \"Fuze4 Nintendo Switch\", \"SystemScore\": 0.9347826, \"ManualScore\": 1},\n",
    "    {\"Query\": \"Anime-inspired ARPGs on Switch\", \"Title\": \"Super Smash Bros Ultimate\", \"SystemScore\": 0.9045039, \"ManualScore\": 1},\n",
    "    {\"Query\": \"Anime-inspired ARPGs on Switch\", \"Title\": \"Super Mario 3D All Stars\", \"SystemScore\": 0.8998616, \"ManualScore\": 1},\n",
    "    {\"Query\": \"Anime-inspired ARPGs on Switch\", \"Title\": \"Xenoblade Chronicles: Future Connected\", \"SystemScore\": 0.8644135, \"ManualScore\": 3},\n",
    "    {\"Query\": \"Anime-inspired ARPGs on Switch\", \"Title\": \"Octopath Traveler\", \"SystemScore\": 0.8594649, \"ManualScore\": 3},\n",
    "    {\"Query\": \"Building and crafting games like Minecraft\", \"Title\": \"Minecraft\", \"SystemScore\": 1.4157196, \"ManualScore\": 3},\n",
    "    {\"Query\": \"Building and crafting games like Minecraft\", \"Title\": \"Crafting Mama\", \"SystemScore\": 1.0933002, \"ManualScore\": 2},\n",
    "    {\"Query\": \"Building and crafting games like Minecraft\", \"Title\": \"Minecraft: Nintendo Switch Edition\", \"SystemScore\": 1.0911922, \"ManualScore\": 3},\n",
    "    {\"Query\": \"Building and crafting games like Minecraft\", \"Title\": \"Minecraft: Legends\", \"SystemScore\": 1.0385086, \"ManualScore\": 1},\n",
    "    {\"Query\": \"Building and crafting games like Minecraft\", \"Title\": \"Minecraft: Xbox 360 Edition\", \"SystemScore\": 1.0357303, \"ManualScore\": 1},\n",
    "    {\"Query\": \"Building and crafting games like Minecraft\", \"Title\": \"Block Craft 3D: Crafting & Building Game\", \"SystemScore\": 1.000009, \"ManualScore\": 3},\n",
    "    {\"Query\": \"Building and crafting games like Minecraft\", \"Title\": \"Minecraft: Playstation 4 Edition\", \"SystemScore\": 0.9805825, \"ManualScore\": 3},\n",
    "    {\"Query\": \"Building and crafting games like Minecraft\", \"Title\": \"Minecraft Dungeons Arcade\", \"SystemScore\": 0.9697701, \"ManualScore\": 3},\n",
    "    {\"Query\": \"Building and crafting games like Minecraft\", \"Title\": \"Minecraft: Trails & Tales\", \"SystemScore\": 0.9389505, \"ManualScore\": 3},\n",
    "    {\"Query\": \"Building and crafting games like Minecraft\", \"Title\": \"Minecraft: Xbox One Edition\", \"SystemScore\": 0.9369137, \"ManualScore\": 3},\n",
    "    {\"Query\": \"Easygoing life sims for relaxing gameplay\", \"Title\": \"The Sims 4\", \"SystemScore\": 1.3230783, \"ManualScore\": 3},\n",
    "    {\"Query\": \"Easygoing life sims for relaxing gameplay\", \"Title\": \"The Sims Life Stories\", \"SystemScore\": 1.2184997, \"ManualScore\": 3},\n",
    "    {\"Query\": \"Easygoing life sims for relaxing gameplay\", \"Title\": \"The Sims 3\", \"SystemScore\": 1.1770371, \"ManualScore\": 3},\n",
    "    {\"Query\": \"Easygoing life sims for relaxing gameplay\", \"Title\": \"The Sims Social\", \"SystemScore\": 1.0175616, \"ManualScore\": 3},\n",
    "    {\"Query\": \"Easygoing life sims for relaxing gameplay\", \"Title\": \"The Sims 3: Lunar Lakes\", \"SystemScore\": 1.0162574, \"ManualScore\": 3},\n",
    "    {\"Query\": \"Easygoing life sims for relaxing gameplay\", \"Title\": \"The Sims 3: University Life\", \"SystemScore\": 1.0159945, \"ManualScore\": 3},\n",
    "    {\"Query\": \"Easygoing life sims for relaxing gameplay\", \"Title\": \"The Sims\", \"SystemScore\": 1.0097862, \"ManualScore\": 3},\n",
    "    {\"Query\": \"Easygoing life sims for relaxing gameplay\", \"Title\": \"The Sims 2\", \"SystemScore\": 0.9923034, \"ManualScore\": 3},\n",
    "    {\"Query\": \"Easygoing life sims for relaxing gameplay\", \"Title\": \"The Sims Castaway Stories\", \"SystemScore\": 0.9699964, \"ManualScore\": 3},\n",
    "    {\"Query\": \"Easygoing life sims for relaxing gameplay\", \"Title\": \"The Sims 4: Parenthood\", \"SystemScore\": 0.9618345, \"ManualScore\": 3},\n",
    "    {\"Query\": \"Games like Stardew Valley with deeper farming mechanics\", \"Title\": \"Stardew Valley\", \"SystemScore\": 1.4223172, \"ManualScore\": 3},\n",
    "    {\"Query\": \"Games like Stardew Valley with deeper farming mechanics\", \"Title\": \"Stardew Valley Expanded\", \"SystemScore\": 1.2892258, \"ManualScore\": 3},\n",
    "    {\"Query\": \"Games like Stardew Valley with deeper farming mechanics\", \"Title\": \"Pure Farming 2018\", \"SystemScore\": 0.8018776, \"ManualScore\": 2},\n",
    "    {\"Query\": \"Games like Stardew Valley with deeper farming mechanics\", \"Title\": \"A Wholesome Game About Farming\", \"SystemScore\": 0.6993675, \"ManualScore\": 3},\n",
    "    {\"Query\": \"Games like Stardew Valley with deeper farming mechanics\", \"Title\": \"Harvest Moon: The Lost Valley\", \"SystemScore\": 0.6717585, \"ManualScore\": 3},\n",
    "    {\"Query\": \"Games like Stardew Valley with deeper farming mechanics\", \"Title\": \"Farming Simulator 22\", \"SystemScore\": 0.669379, \"ManualScore\": 2},\n",
    "    {\"Query\": \"Games like Stardew Valley with deeper farming mechanics\", \"Title\": \"Figment 2: Creed Valley\", \"SystemScore\": 0.6652167, \"ManualScore\": 1},\n",
    "    {\"Query\": \"Games like Stardew Valley with deeper farming mechanics\", \"Title\": \"Monument Valley\", \"SystemScore\": 0.6597379, \"ManualScore\": 1},\n",
    "    {\"Query\": \"Games like Stardew Valley with deeper farming mechanics\", \"Title\": \"Derail Valley\", \"SystemScore\": 0.6578686, \"ManualScore\": 0},\n",
    "    {\"Query\": \"Games like Stardew Valley with deeper farming mechanics\", \"Title\": \"Disney Dreamlight Valley\", \"SystemScore\": 0.6574964, \"ManualScore\": 2},\n",
    "    {\"Query\": \"AAA games\", \"Title\": \"Utopias: Navigating Without Coordinates\", \"SystemScore\": 1.1493475, \"ManualScore\": 1},\n",
    "    {\"Query\": \"AAA games\", \"Title\": \"Clubhouse Games: 51 Worldwide Classics\", \"SystemScore\": 1.0863289, \"ManualScore\": 0},\n",
    "    {\"Query\": \"AAA games\", \"Title\": \"The Original Mobile Games\", \"SystemScore\": 0.9524942, \"ManualScore\": 0},\n",
    "    {\"Query\": \"AAA games\", \"Title\": \"Games Explosion\", \"SystemScore\": 0.951276, \"ManualScore\": 0},\n",
    "    {\"Query\": \"AAA games\", \"Title\": \"Best of Board Games\", \"SystemScore\": 0.8802088, \"ManualScore\": 0},\n",
    "    {\"Query\": \"AAA games\", \"Title\": \"Doodle Champion Island Games\", \"SystemScore\": 0.8758247, \"ManualScore\": 0},\n",
    "    {\"Query\": \"AAA games\", \"Title\": \"Scrap Games\", \"SystemScore\": 0.8648813, \"ManualScore\": 0},\n",
    "    {\"Query\": \"AAA games\", \"Title\": \"100 Classic Games\", \"SystemScore\": 0.8450494, \"ManualScore\": 0},\n",
    "    {\"Query\": \"AAA games\", \"Title\": \"Pokemon Yellow\", \"SystemScore\": 0.8385899, \"ManualScore\": 2},\n",
    "    {\"Query\": \"AAA games\", \"Title\": \"1001 Touch Games\", \"SystemScore\": 0.8330655, \"ManualScore\": 0},\n",
    "\n",
    "]\n",
    "\n",
    "df = pd.DataFrame(data)\n",
    "df.to_csv('manual_evaluation.csv', index=False)\n"
   ]
  },
  {
   "cell_type": "code",
   "execution_count": 8,
   "id": "1d0f5ba9-2c1b-45d1-9cbf-fe5fa9149059",
   "metadata": {},
   "outputs": [
    {
     "name": "stdout",
     "output_type": "stream",
     "text": [
      "Average Precision per Query:\n",
      "Query\n",
      "AAA games                                                  0.111111\n",
      "Anime-inspired ARPGs on Switch                             0.909524\n",
      "Building and crafting games like Minecraft                 0.838591\n",
      "Easygoing life sims for relaxing gameplay                  1.000000\n",
      "Games like Stardew Valley with deeper farming mechanics    0.957143\n",
      "Name: IsRelevant, dtype: float64\n",
      "\n",
      " Mean Average Precision (mAP): 0.7633\n"
     ]
    }
   ],
   "source": [
    "df = pd.read_csv('manual_evaluation.csv')\n",
    "df['IsRelevant'] = df['ManualScore'].apply(lambda x: 1 if x >= 2 else 0)\n",
    "df = df.sort_values(by=['Query', 'SystemScore'], ascending=[True, False])\n",
    "def compute_average_precision(relevance_list):\n",
    "    precisions = []\n",
    "    relevant_so_far = 0\n",
    "    for i, rel in enumerate(relevance_list, start=1):\n",
    "        if rel:\n",
    "            relevant_so_far += 1\n",
    "            precisions.append(relevant_so_far / i)\n",
    "    return sum(precisions) / relevant_so_far if relevant_so_far > 0 else 0.0\n",
    "average_precisions = df.groupby('Query')['IsRelevant'].apply(compute_average_precision)\n",
    "mAP = average_precisions.mean()\n",
    "\n",
    "print('Average Precision per Query:')\n",
    "print(average_precisions)\n",
    "print(f'\\n Mean Average Precision (mAP): {mAP:.4f}')\n",
    "\n",
    "df['AP'] = df['Query'].map(average_precisions)\n",
    "df.to_csv('manual_evaluation_with_mAP.csv', index=False)"
   ]
  },
  {
   "cell_type": "code",
   "execution_count": 12,
   "id": "102ad19e-57a4-4ed1-95a8-17bfbfe00e6e",
   "metadata": {},
   "outputs": [
    {
     "name": "stdout",
     "output_type": "stream",
     "text": [
      "                                               Query  Precision@10  Recall@10  \\\n",
      "0                                          AAA games           0.1   0.166667   \n",
      "1                     Anime-inspired ARPGs on Switch           0.7   0.437500   \n",
      "2         Building and crafting games like Minecraft           0.8   0.285714   \n",
      "3          Easygoing life sims for relaxing gameplay           1.0   0.232558   \n",
      "4  Games like Stardew Valley with deeper farming ...           0.7   0.233333   \n",
      "\n",
      "   E-Measure  \n",
      "0   0.875000  \n",
      "1   0.461538  \n",
      "2   0.578947  \n",
      "3   0.622642  \n",
      "4   0.650000  \n",
      "\n",
      " Averages Across All Queries:\n",
      "Mean Precision@10: 0.6600\n",
      "Mean Recall@10: 0.2712\n",
      "Mean E-Measure: 0.6376\n"
     ]
    }
   ],
   "source": [
    "relevant_counts = {\n",
    "    'Anime-inspired ARPGs on Switch': 16,\n",
    "    'Building and crafting games like Minecraft': 28,\n",
    "    'Easygoing life sims for relaxing gameplay': 43,\n",
    "    'Games like Stardew Valley with deeper farming mechanics': 30,\n",
    "    'AAA games': 6,\n",
    "}\n",
    "\n",
    "df = pd.DataFrame(data)\n",
    "df['IsRelevant'] = df['ManualScore'].apply(lambda x: 1 if x >= 2 else 0)\n",
    "def e_measure(precision, recall):\n",
    "    if precision + recall == 0:\n",
    "        return 1.0\n",
    "    return 1 - (2 * precision * recall) / (precision + recall)\n",
    "results = []\n",
    "\n",
    "for query, group in df.groupby('Query'):\n",
    "    retrieved_relevant = group['IsRelevant'].sum()\n",
    "    total_retrieved = len(group)\n",
    "    total_relevant = relevant_counts[query]\n",
    "\n",
    "    precision = retrieved_relevant / total_retrieved\n",
    "    recall = retrieved_relevant / total_relevant\n",
    "    e = e_measure(precision, recall)\n",
    "\n",
    "    results.append({\n",
    "        'Query': query,\n",
    "        'Precision@10': precision,\n",
    "        'Recall@10': recall,\n",
    "        'E-Measure': e\n",
    "    })\n",
    "\n",
    "eval_df = pd.DataFrame(results)\n",
    "print(eval_df)\n",
    "\n",
    "print('\\n Averages Across All Queries:')\n",
    "print(f'Mean Precision@10: {eval_df['Precision@10'].mean():.4f}')\n",
    "print(f'Mean Recall@10: {eval_df['Recall@10'].mean():.4f}')\n",
    "print(f'Mean E-Measure: {eval_df['E-Measure'].mean():.4f}')"
   ]
  },
  {
   "cell_type": "code",
   "execution_count": 14,
   "id": "cdb13132-dea6-4982-9a29-9615096cb85b",
   "metadata": {},
   "outputs": [
    {
     "name": "stdout",
     "output_type": "stream",
     "text": [
      "nDCG@10 per query:\n",
      "\n",
      "Query\n",
      "AAA games                                                  0.608933\n",
      "Anime-inspired ARPGs on Switch                             0.968174\n",
      "Building and crafting games like Minecraft                 0.936520\n",
      "Easygoing life sims for relaxing gameplay                  1.000000\n",
      "Games like Stardew Valley with deeper farming mechanics    0.983798\n",
      "Name: ManualScore, dtype: float64\n",
      "\n",
      " Mean nDCG@10 across all queries: 0.8995\n"
     ]
    }
   ],
   "source": [
    "import numpy as np\n",
    "import pandas as pd\n",
    "def dcg_at_k(relevance_scores, k=10):\n",
    "    relevance_scores = np.asfarray(relevance_scores)[:k]\n",
    "    if relevance_scores.size == 0:\n",
    "        return 0.0\n",
    "    return relevance_scores[0] + np.sum(relevance_scores[1:] / np.log2(np.arange(2, relevance_scores.size + 1) + 1))\n",
    "def ndcg_at_k(relevance_scores, k=10):\n",
    "    dcg = dcg_at_k(relevance_scores, k)\n",
    "    ideal_scores = sorted(relevance_scores, reverse=True)\n",
    "    idcg = dcg_at_k(ideal_scores, k)\n",
    "    return dcg / idcg if idcg > 0 else 0.0\n",
    "ndcg_per_query = df.groupby('Query')['ManualScore'].apply(lambda scores: ndcg_at_k(scores.tolist(), k=10))\n",
    "print('nDCG@10 per query:\\n')\n",
    "print(ndcg_per_query)\n",
    "\n",
    "mean_ndcg = ndcg_per_query.mean()\n",
    "print(f'\\n Mean nDCG@10 across all queries: {mean_ndcg:.4f}')\n",
    "\n"
   ]
  },
  {
   "cell_type": "code",
   "execution_count": null,
   "id": "c39fa56d-db6b-4581-b64a-89f4990b516b",
   "metadata": {},
   "outputs": [],
   "source": []
  },
  {
   "cell_type": "code",
   "execution_count": 16,
   "id": "f7716cee-ec59-40cf-87d5-f0b454a92f0a",
   "metadata": {},
   "outputs": [
    {
     "name": "stdout",
     "output_type": "stream",
     "text": [
      "Reciprocal Rank per query:\n",
      "Query\n",
      "AAA games                                                  0.111111\n",
      "Anime-inspired ARPGs on Switch                             1.000000\n",
      "Building and crafting games like Minecraft                 1.000000\n",
      "Easygoing life sims for relaxing gameplay                  1.000000\n",
      "Games like Stardew Valley with deeper farming mechanics    1.000000\n",
      "Name: ManualScore, dtype: float64\n",
      "\n",
      " Mean Reciprocal Rank (MRR): 0.8222\n"
     ]
    }
   ],
   "source": [
    "def reciprocal_rank(scores):\n",
    "    for i, score in enumerate(scores, start=1):\n",
    "        if score >= 2:\n",
    "            return 1.0 / i\n",
    "    return 0.0\n",
    "rr_per_query = df.groupby('Query')['ManualScore'].apply(lambda scores: reciprocal_rank(scores.tolist()))\n",
    "mrr = rr_per_query.mean()\n",
    "print('Reciprocal Rank per query:')\n",
    "print(rr_per_query)\n",
    "\n",
    "print(f'\\n Mean Reciprocal Rank (MRR): {mrr:.4f}')"
   ]
  },
  {
   "cell_type": "code",
   "execution_count": null,
   "id": "483d50dd-2c5e-4758-8452-50f8cf52dca5",
   "metadata": {},
   "outputs": [],
   "source": [
    " "
   ]
  },
  {
   "cell_type": "code",
   "execution_count": null,
   "id": "568e0f5d-4bcb-4379-8f69-7c55c2563d8a",
   "metadata": {},
   "outputs": [],
   "source": []
  }
 ],
 "metadata": {
  "kernelspec": {
   "display_name": "Python 3 (ipykernel)",
   "language": "python",
   "name": "python3"
  },
  "language_info": {
   "codemirror_mode": {
    "name": "ipython",
    "version": 3
   },
   "file_extension": ".py",
   "mimetype": "text/x-python",
   "name": "python",
   "nbconvert_exporter": "python",
   "pygments_lexer": "ipython3",
   "version": "3.12.4"
  }
 },
 "nbformat": 4,
 "nbformat_minor": 5
}
