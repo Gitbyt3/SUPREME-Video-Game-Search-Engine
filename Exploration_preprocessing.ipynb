{
 "cells": [
  {
   "cell_type": "code",
   "execution_count": null,
   "metadata": {},
   "outputs": [],
   "source": [
    "\"\"\"\n",
    "Code for downloading dataset, unzipping, and deleting the zip file\n",
    "If running the code, make sure you have a Kaggle account and you have a public API token saved to a .kaggle folder in your 'User' folder\n",
    "Details -> https://www.kaggle.com/docs/api\n",
    "Otherwise just clone the Github repo with the csv file already downloaded and extracted\n",
    "\"\"\"\n",
    "\n",
    "# from zipfile import ZipFile\n",
    "# import os\n",
    "# !pip install kaggle\n",
    "# !kaggle datasets download -d matheusfonsecachaves/popular-video-games\n",
    "# with ZipFile(os.path.join(os.getcwd(), 'popular-video-games.zip'), 'r') as zip_file:\n",
    "#     zip_file.extractall(os.getcwd())\n",
    "# os.remove('popular-video-games.zip')"
   ]
  },
  {
   "cell_type": "code",
   "execution_count": 7,
   "metadata": {},
   "outputs": [],
   "source": [
    "import pandas as pd"
   ]
  },
  {
   "cell_type": "code",
   "execution_count": null,
   "metadata": {},
   "outputs": [],
   "source": []
  }
 ],
 "metadata": {
  "kernelspec": {
   "display_name": "Information_retrieval",
   "language": "python",
   "name": "python3"
  },
  "language_info": {
   "codemirror_mode": {
    "name": "ipython",
    "version": 3
   },
   "file_extension": ".py",
   "mimetype": "text/x-python",
   "name": "python",
   "nbconvert_exporter": "python",
   "pygments_lexer": "ipython3",
   "version": "3.13.2"
  }
 },
 "nbformat": 4,
 "nbformat_minor": 2
}
