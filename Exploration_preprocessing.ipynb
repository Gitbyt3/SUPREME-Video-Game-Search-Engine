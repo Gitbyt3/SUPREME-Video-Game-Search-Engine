{
 "cells": [
  {
   "cell_type": "code",
   "execution_count": 2,
   "metadata": {},
   "outputs": [
    {
     "data": {
      "text/plain": [
       "\"\\nCode for downloading dataset, unzipping, and deleting the zip file\\nIf running the code, make sure you have a Kaggle account and you have a public API token saved to a .kaggle folder in your 'User' folder\\nDetails -> https://www.kaggle.com/docs/api\\nOtherwise just clone the Github repo with the csv file already downloaded and extracted\\n\""
      ]
     },
     "execution_count": 2,
     "metadata": {},
     "output_type": "execute_result"
    }
   ],
   "source": [
    "\"\"\"\n",
    "Code for downloading dataset, unzipping, and deleting the zip file\n",
    "If running the code, make sure you have a Kaggle account and you have a public API token saved to a .kaggle folder in your 'User' folder\n",
    "Details -> https://www.kaggle.com/docs/api\n",
    "Otherwise just clone the Github repo with the csv file already downloaded and extracted\n",
    "\"\"\"\n",
    "\n",
    "# from zipfile import ZipFile\n",
    "# import os\n",
    "# !pip install kaggle\n",
    "# !kaggle datasets download -d matheusfonsecachaves/popular-video-games\n",
    "# with ZipFile(os.path.join(os.getcwd(), 'popular-video-games.zip'), 'r') as zip_file:\n",
    "#     zip_file.extractall(os.getcwd())\n",
    "# os.remove('popular-video-games.zip')"
   ]
  },
  {
   "cell_type": "code",
   "execution_count": 1,
   "metadata": {},
   "outputs": [
    {
     "name": "stdout",
     "output_type": "stream",
     "text": [
      "Dataset Missing Values & data types\n",
      "<class 'pandas.core.frame.DataFrame'>\n",
      "Index: 60000 entries, 0 to 59999\n",
      "Data columns (total 13 columns):\n",
      " #   Column        Non-Null Count  Dtype  \n",
      "---  ------        --------------  -----  \n",
      " 0   Title         60000 non-null  object \n",
      " 1   Release_Date  60000 non-null  object \n",
      " 2   Developers    60000 non-null  object \n",
      " 3   Summary       55046 non-null  object \n",
      " 4   Platforms     60000 non-null  object \n",
      " 5   Genres        60000 non-null  object \n",
      " 6   Rating        25405 non-null  float64\n",
      " 7   Plays         60000 non-null  object \n",
      " 8   Playing       60000 non-null  object \n",
      " 9   Backlogs      60000 non-null  object \n",
      " 10  Wishlist      60000 non-null  object \n",
      " 11  Lists         60000 non-null  object \n",
      " 12  Reviews       60000 non-null  object \n",
      "dtypes: float64(1), object(12)\n",
      "memory usage: 6.4+ MB\n",
      "Elden Ring Feb 25, 2022 FromSoftware Bandai Namco Entertainment Elden Ring is a fantasy, action and open world game with RPG elements such as stats, weapons and spells. Rise, Tarnished, and be guided by grace to brandish the power of the Elden Ring and become an Elden Lord in the Lands Between. Windows PC PlayStation 4 Xbox One PlayStation 5 Xbox Series Adventure RPG\n",
      "\n",
      "The Legend of Zelda: Breath of the Wild Mar 03, 2017 Nintendo Nintendo EPD Production Group No. 3 The Legend of Zelda: Breath of the Wild is the first 3D open-world game in the Zelda series. Link can travel anywhere and be equipped with weapons and armor found throughout the world to grant him various bonuses. Unlike many games in the series, Breath of the Wild does not impose a specific order in which quests or dungeons must be completed. While the game still has environmental obstacles such as weather effects, inhospitable lands, or powerful enemies, many of them can be overcome using the right method. A lot of critics ranked Breath of the Wild as one of the best video games of all time. Wii U Nintendo Switch Adventure Puzzle\n",
      "\n",
      "Hades Dec 07, 2018 Supergiant Games A rogue-lite hack and slash dungeon crawler in which Zagreus, son of Hades the Greek god of the dead, attempts to escape his home and his oppressive father by fighting the souls of the dead through the various layers of the ever-shifting underworld, while getting to know and forging relationships with its inhabitants. Windows PC Mac PlayStation 4 Xbox One PlayStation 5 Nintendo Switch Xbox Series Adventure Brawler Indie RPG\n",
      "\n",
      "Hollow Knight Feb 24, 2017 Team Cherry A 2D metroidvania with an emphasis on close combat and exploration in which the player enters the once-prosperous now-bleak insect kingdom of Hallownest, travels through its various districts, meets friendly inhabitants, fights hostile ones and uncovers the kingdom's history while improving their combat abilities and movement arsenal by fighting bosses and accessing out-of-the-way areas. Windows PC Mac Linux Nintendo Switch Adventure Indie Platform\n",
      "\n",
      "Undertale Sep 15, 2015 tobyfox 8-4 A small child falls into the Underground, where monsters have long been banished by humans and are hunting every human that they find. The player controls the child as they try to make it back to the Surface through hostile environments, all the while engaging with a turn-based combat system with puzzle-solving and bullet hell elements, as well as other unconventional game mechanics. Windows PC Mac Linux PlayStation 4 Xbox One PlayStation Vita Nintendo Switch Adventure Indie RPG Turn Based Strategy\n",
      "\n"
     ]
    }
   ],
   "source": [
    "# Library imports\n",
    "import pandas as pd\n",
    "from ast import literal_eval as string_to_list\n",
    "\n",
    "\"\"\"\n",
    "Read csv file and display missing values & data types\n",
    "\"\"\"\n",
    "games = pd.read_csv('backloggd_games.csv', index_col=0)\n",
    "print('Dataset Missing Values & data types')\n",
    "games.info()\n",
    "\n",
    "\"\"\"\n",
    "1. Convert numerical columns formatted as strings to floats with the full value\n",
    "2. Convert the list columns represented as strings into actual lists\n",
    "\"\"\"\n",
    "def string_to_int(x):\n",
    "    if 'K' in x:\n",
    "        x = float(x.replace('K','')) * 1000\n",
    "    else:\n",
    "        x = float(x) * 1000\n",
    "    return x\n",
    "\n",
    "games[['Plays','Playing','Backlogs','Wishlist','Lists','Reviews']] = games[['Plays','Playing','Backlogs','Wishlist','Lists','Reviews']].map(string_to_int)\n",
    "games[['Developers','Platforms','Genres']] = games[['Developers','Platforms','Genres']].map(string_to_list)\n",
    "games['Summary'] = games['Summary'].fillna('')\n",
    "\n",
    "\"\"\"\n",
    "Create the document list from the specified fields\n",
    "\"\"\"\n",
    "games['Documents'] =    games['Title'] + ' ' +                          \\\n",
    "                        games['Release_Date'] + ' ' +                   \\\n",
    "                        games['Developers'].str.join(' ') + ' ' +       \\\n",
    "                        games['Summary'] + ' ' +                        \\\n",
    "                        games['Platforms'].str.join(' ') + ' ' +        \\\n",
    "                        games['Genres'].str.join(' ')\n",
    "\n",
    "documents = games['Documents'].to_list()\n",
    "for document in documents[:5]: print(document + '\\n')"
   ]
  },
  {
   "cell_type": "code",
   "execution_count": null,
   "metadata": {},
   "outputs": [],
   "source": []
  }
 ],
 "metadata": {
  "kernelspec": {
   "display_name": "Information_retrieval",
   "language": "python",
   "name": "python3"
  },
  "language_info": {
   "codemirror_mode": {
    "name": "ipython",
    "version": 3
   },
   "file_extension": ".py",
   "mimetype": "text/x-python",
   "name": "python",
   "nbconvert_exporter": "python",
   "pygments_lexer": "ipython3",
   "version": "3.13.2"
  }
 },
 "nbformat": 4,
 "nbformat_minor": 2
}
