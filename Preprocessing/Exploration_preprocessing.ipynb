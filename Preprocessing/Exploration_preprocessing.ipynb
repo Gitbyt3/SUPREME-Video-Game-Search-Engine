{
 "cells": [
  {
   "cell_type": "markdown",
   "metadata": {},
   "source": [
    "# Download dataset, import libraries, data cleaning"
   ]
  },
  {
   "cell_type": "code",
   "execution_count": 1,
   "metadata": {},
   "outputs": [
    {
     "data": {
      "text/plain": [
       "\"\\nCode for downloading dataset, unzipping, and deleting the zip file\\nIf running the code, make sure you have a Kaggle account and you have a public API token saved to a .kaggle folder in your 'User' folder\\nDetails -> https://www.kaggle.com/docs/api\\nOtherwise just clone the Github repo with the csv file already downloaded and extracted\\n\""
      ]
     },
     "execution_count": 1,
     "metadata": {},
     "output_type": "execute_result"
    }
   ],
   "source": [
    "\"\"\"\n",
    "Code for downloading dataset, unzipping, and deleting the zip file\n",
    "If running the code, make sure you have a Kaggle account and you have a public API token saved to a .kaggle folder in your 'User' folder\n",
    "Details -> https://www.kaggle.com/docs/api\n",
    "Otherwise just clone the Github repo with the csv file already downloaded and extracted\n",
    "\"\"\"\n",
    "\n",
    "# from zipfile import ZipFile\n",
    "# import os\n",
    "# !pip install kaggle\n",
    "# !kaggle datasets download -d matheusfonsecachaves/popular-video-games\n",
    "# with ZipFile(os.path.join(os.getcwd(), 'popular-video-games.zip'), 'r') as zip_file:\n",
    "#     zip_file.extractall(os.getcwd())\n",
    "# os.remove('popular-video-games.zip')"
   ]
  },
  {
   "cell_type": "code",
   "execution_count": 2,
   "metadata": {},
   "outputs": [
    {
     "name": "stderr",
     "output_type": "stream",
     "text": [
      "c:\\Users\\Lucas\\anaconda3\\envs\\Information_retrieval\\Lib\\site-packages\\tqdm\\auto.py:21: TqdmWarning: IProgress not found. Please update jupyter and ipywidgets. See https://ipywidgets.readthedocs.io/en/stable/user_install.html\n",
      "  from .autonotebook import tqdm as notebook_tqdm\n"
     ]
    }
   ],
   "source": [
    "# Library imports\n",
    "import pandas as pd\n",
    "from sklearn.feature_extraction.text import TfidfTransformer, CountVectorizer, TfidfVectorizer\n",
    "from sklearn.pipeline import Pipeline\n",
    "from sklearn.metrics.pairwise import cosine_similarity\n",
    "from ast import literal_eval as string_to_list\n",
    "import numpy as np\n",
    "import torch\n",
    "from transformers import BertTokenizer, BertModel\n",
    "import numpy as np\n",
    "import os\n",
    "from torch.nn import functional as F"
   ]
  },
  {
   "cell_type": "code",
   "execution_count": null,
   "metadata": {},
   "outputs": [],
   "source": []
  },
  {
   "cell_type": "code",
   "execution_count": 3,
   "metadata": {},
   "outputs": [
    {
     "name": "stdout",
     "output_type": "stream",
     "text": [
      "Dataset Missing Values & data types\n",
      "<class 'pandas.core.frame.DataFrame'>\n",
      "Index: 60000 entries, 0 to 59999\n",
      "Data columns (total 13 columns):\n",
      " #   Column        Non-Null Count  Dtype  \n",
      "---  ------        --------------  -----  \n",
      " 0   Title         60000 non-null  object \n",
      " 1   Release_Date  60000 non-null  object \n",
      " 2   Developers    60000 non-null  object \n",
      " 3   Summary       55046 non-null  object \n",
      " 4   Platforms     60000 non-null  object \n",
      " 5   Genres        60000 non-null  object \n",
      " 6   Rating        25405 non-null  float64\n",
      " 7   Plays         60000 non-null  object \n",
      " 8   Playing       60000 non-null  object \n",
      " 9   Backlogs      60000 non-null  object \n",
      " 10  Wishlist      60000 non-null  object \n",
      " 11  Lists         60000 non-null  object \n",
      " 12  Reviews       60000 non-null  object \n",
      "dtypes: float64(1), object(12)\n",
      "memory usage: 6.4+ MB\n",
      "Elden Ring [SEP] Release_Date: Feb 25, 2022 [SEP] Developers: FromSoftware Bandai Namco Entertainment [SEP] Genres: Adventure RPG [SEP] Platforms: Windows PC PlayStation 4 Xbox One PlayStation 5 Xbox Series [SEP] Elden Ring is a fantasy, action and open world game with RPG elements such as stats, weapons and spells. Rise, Tarnished, and be guided by grace to brandish the power of the Elden Ring and become an Elden Lord in the Lands Between.\n",
      "\n",
      "The Legend of Zelda: Breath of the Wild [SEP] Release_Date: Mar 03, 2017 [SEP] Developers: Nintendo Nintendo EPD Production Group No. 3 [SEP] Genres: Adventure Puzzle [SEP] Platforms: Wii U Nintendo Switch [SEP] The Legend of Zelda: Breath of the Wild is the first 3D open-world game in the Zelda series. Link can travel anywhere and be equipped with weapons and armor found throughout the world to grant him various bonuses. Unlike many games in the series, Breath of the Wild does not impose a specific order in which quests or dungeons must be completed. While the game still has environmental obstacles such as weather effects, inhospitable lands, or powerful enemies, many of them can be overcome using the right method. A lot of critics ranked Breath of the Wild as one of the best video games of all time.\n",
      "\n"
     ]
    }
   ],
   "source": [
    "\"\"\"\n",
    "Read csv file and display missing values & data types\n",
    "\"\"\"\n",
    "games = pd.read_csv(os.path.join(os.path.dirname(os.getcwd()), 'backloggd_games.csv'), index_col=0)\n",
    "print('Dataset Missing Values & data types')\n",
    "games.info()\n",
    "\n",
    "\"\"\"\n",
    "1. Convert numerical columns formatted as strings to floats with the full value\n",
    "2. Convert the list columns represented as strings into actual lists\n",
    "3. Fill missing summary values with an empty string\n",
    "4. Drops duplicates -> Keeps the first value\n",
    "\"\"\"\n",
    "def string_to_int(x):\n",
    "    if 'K' in x:\n",
    "        x = float(x.replace('K','')) * 1000\n",
    "    else:\n",
    "        x = float(x) * 1000\n",
    "    return x\n",
    "\n",
    "games[['Plays','Playing','Backlogs','Wishlist','Lists','Reviews']] = games[['Plays','Playing','Backlogs','Wishlist','Lists','Reviews']].map(string_to_int)\n",
    "games[['Developers','Platforms','Genres']] = games[['Developers','Platforms','Genres']].map(string_to_list)\n",
    "games['Summary'] = games['Summary'].fillna('')\n",
    "games = games.drop_duplicates(subset='Title')\n",
    "\n",
    "\"\"\"\n",
    "Create the document list from the specified fields\n",
    "\"\"\"\n",
    "games['Documents'] =    games['Title'] + ' [SEP] ' +                          \\\n",
    "                        'Release_Date: ' + games['Release_Date'] + ' [SEP] ' +                   \\\n",
    "                        'Developers: ' + games['Developers'].str.join(' ') + ' [SEP] ' +       \\\n",
    "                        'Genres: ' + games['Genres'].str.join(' ') + ' [SEP] ' +                        \\\n",
    "                        'Platforms: ' + games['Platforms'].str.join(' ') + ' [SEP] ' +        \\\n",
    "                        games['Summary']\n",
    "documents = games['Documents'].to_list()\n",
    "\n",
    "# Print first two documents\n",
    "for document in documents[:2]: print(document + '\\n')"
   ]
  },
  {
   "cell_type": "markdown",
   "metadata": {},
   "source": [
    "# BERT"
   ]
  },
  {
   "cell_type": "code",
   "execution_count": 4,
   "metadata": {},
   "outputs": [
    {
     "name": "stdout",
     "output_type": "stream",
     "text": [
      "using cuda\n",
      "Loading precomputed document embeddings.\n"
     ]
    }
   ],
   "source": [
    "# Load pre-trained BERT model and tokenizer\n",
    "tokenizer = BertTokenizer.from_pretrained('bert-base-uncased')\n",
    "model = BertModel.from_pretrained('bert-base-uncased')\n",
    "device = torch.device('cuda' if torch.cuda.is_available() else torch.device(\"mps\") if torch.backends.mps.is_available() else 'cpu')\n",
    "print('using', device)\n",
    "model.to(device)\n",
    "model.eval()\n",
    "\n",
    "def encode_texts(texts, batch_size=64, pooling='mean', max_length=None):\n",
    "    all_embeddings = []\n",
    "    for i in range(0, len(texts), batch_size):\n",
    "        batch_texts = texts[i:i+batch_size]\n",
    "        inputs = tokenizer.batch_encode_plus(\n",
    "            batch_texts, \n",
    "            add_special_tokens=True,\n",
    "            return_tensors='pt', \n",
    "            truncation=True, \n",
    "            padding='max_length', \n",
    "            max_length=max_length\n",
    "        )\n",
    "        inputs = {k: v.to(device) for k, v in inputs.items()}\n",
    "        with torch.no_grad():\n",
    "            outputs = model(**inputs)\n",
    "        \n",
    "        if pooling == 'mean':\n",
    "            token_embeddings = outputs.last_hidden_state  # [batch_size, seq_length, hidden_size]\n",
    "            mask = inputs[\"attention_mask\"].unsqueeze(-1).expand(token_embeddings.size()).float()\n",
    "            batch_embeddings = torch.sum(token_embeddings * mask, dim=1) / torch.clamp(mask.sum(dim=1), min=1e-9)\n",
    "        elif pooling == 'mean-w/o-mask':\n",
    "            token_embeddings = outputs.last_hidden_state\n",
    "            batch_embeddings = torch.mean(token_embeddings, dim=1)\n",
    "        else:\n",
    "            # Use the pooled output ([CLS] token) for each document in the batch.\n",
    "            batch_embeddings = outputs.pooler_output  # shape: [batch_size, hidden_size]\n",
    "        all_embeddings.append(batch_embeddings)\n",
    "    # Concatenate all batches into one tensor.\n",
    "    return torch.cat(all_embeddings, dim=0)\n",
    "def encode_text(text, pooling='mean', max_length=None):\n",
    "    \"\"\"\n",
    "    Encodes text into an embedding using BERT.\n",
    "    Using a larger max_length to accommodate longer documents.\n",
    "    \"\"\"\n",
    "    inputs = tokenizer.encode_plus(text, add_special_tokens=True, return_tensors='pt', truncation=True, padding='max_length', max_length=max_length)\n",
    "    # Move inputs to the correct device\n",
    "    inputs = {k: v.to(device) for k, v in inputs.items()}\n",
    "    with torch.no_grad():\n",
    "        outputs = model(**inputs)\n",
    "    if pooling == 'mean':\n",
    "        token_embeddings = outputs.last_hidden_state[0]\n",
    "        mask = inputs[\"attention_mask\"][0].unsqueeze(-1).expand(token_embeddings.size()).float()\n",
    "        mean_pool = torch.sum(token_embeddings * mask, dim=0) / torch.clamp(mask.sum(dim=0), min=1e-9)\n",
    "        return mean_pool\n",
    "    elif pooling == 'mean-w/o-mask':\n",
    "        return torch.mean(outputs.last_hidden_state[0], dim=0)\n",
    "    else:\n",
    "        return outputs.pooler_output[0]\n",
    "\n",
    "def generate_document_embeddings(documents, pooling='mean', max_length=512, save_path='test.pt', device='cpu'):\n",
    "    if os.path.exists(save_path):\n",
    "        print(\"Loading precomputed document embeddings.\")\n",
    "        return torch.load(save_path).to(device)\n",
    "    \n",
    "    doc_embeddings = encode_texts(documents, pooling=pooling, max_length=max_length)\n",
    "    torch.save(doc_embeddings, save_path)\n",
    "    return doc_embeddings.to(device)\n",
    "\n",
    "doc_embeddings = generate_document_embeddings(documents, pooling='mean-w/o-mask', max_length=256, save_path='doc_embeddings_wo_mask.pt', device=device)\n",
    "def get_top_k_documents(query, top_k=40, pooling='mean'):\n",
    "    query_embedding = encode_text(query, pooling=pooling, max_length=256).unsqueeze(0)\n",
    "\n",
    "    similarities = F.cosine_similarity(query_embedding, doc_embeddings, dim=1)\n",
    "    top_k_indices = torch.topk(similarities, k=top_k).indices\n",
    "    top_results = [(documents[i], similarities[i].item(), i) for i in top_k_indices]\n",
    "\n",
    "    return top_results, similarities"
   ]
  },
  {
   "cell_type": "code",
   "execution_count": 5,
   "metadata": {},
   "outputs": [
    {
     "name": "stdout",
     "output_type": "stream",
     "text": [
      "('Zelda: The Wand of Gamelon [SEP] Release_Date: Oct 10, 1993 [SEP] Developers: Philips Interactive Media, Inc. Animation Magic [SEP] Genres: Adventure Puzzle [SEP] Platforms: Philips CD-i [SEP] Zelda: The Wand of Gamelon was the product of a compromise between Nintendo and Philips following their failure to release a CD-ROM based add-on to the Super Nintendo Entertainment System. It was developed in tandem with Link: The Faces of Evil and marks the first game where the eponymous princess Zelda is playable. The Wand of Gamelon differ from most conventional Zelda games as it is a platformer with a side-scrolling view, similar to The Adventure of Link. Stages are accessed from a world map, with more becoming available as Zelda clears an area or defeats a boss. The game have been subject to much criticism and Nintendo does not recognize it as part of the series.', 0.5395450592041016, tensor(36018, device='cuda:0'))\n",
      "('Wizardry Gaiden III: Scripture of the Dark [SEP] Release_Date: Oct 25, 1993 [SEP] Developers: Sir-tech Software ASCII Corporation [SEP] Genres: RPG [SEP] Platforms: Game Boy [SEP] Wizardry Gaiden III: Scripture of the Dark is a Role-Playing game, developed by Sir-Tech Software Inc. and published by ASCII Entertainment, which was released in Japan in 1993.\\r\\nWhile the first two Gaiden games, Wizardry Gaiden: Suffering of the Queen and Wizardry Gaiden II: Curse of the Ancient Emperor, stuck fairly close to each-other and to Wizardry V: Heart of the Maelstrom, Scripture of the Dark started introducing more radical changes to the formula. This was mostly in the form of incorporating elements of Wizardry VI: Bane of the Cosmic Forge, but retaining the core gameplay derived from Wizardry V.', 0.5323292016983032, tensor(32848, device='cuda:0'))\n",
      "(\"The Legend of Zelda: Oracle of Seasons [SEP] Release_Date: Feb 27, 2001 [SEP] Developers: Nintendo Capcom [SEP] Genres: Adventure Puzzle RPG [SEP] Platforms: Nintendo 3DS Game Boy Color [SEP] The Legend of Zelda: Oracle of Seasons is one of two Zelda titles released for the Game Boy Color, the other being Oracle of Ages. The game retain many gameplay elements from Link's Awakening such as the graphics, audio and top-view perspective. It also features eight dungeons and a large overworld to explore like in the previous games. Oracle of Seasons is said to be more action-oriented than its counterpart being more puzzle-oriented. After completing one of the two games, both can be linked to form a single linear plot with an alternate ending. Oracle of Seasons and Oracle of Ages were often credited as being two of the top games for the Game Boy Color.\", 0.5209852457046509, tensor(898, device='cuda:0'))\n",
      "(\"Cadence of Hyrule: Crypt of the NecroDancer Featuring the Legend of Zelda [SEP] Release_Date: Jun 13, 2019 [SEP] Developers: Spike ChunSoft Brace Yourself Games [SEP] Genres: Adventure Music [SEP] Platforms: Nintendo Switch [SEP] Cadence of Hyrule: Crypt of the NecroDancer Featuring The Legend of Zelda is a rhythmic action-adventure game where you can enjoy the gameplay of Crypt of the NecroDancer in the setting of The Legend of Zelda series. As Link - or even as Princess Zelda - you'll explore the randomly generated overworld and procedurally generated dungeons on a quest to save Hyrule. Every beat of each remixed Legend of Zelda tune is a chance to move, attack, defend, and more, so stay one step ahead of each enemy and boss… or face the music.\", 0.5179145932197571, tensor(1185, device='cuda:0'))\n",
      "('The Lord of the Rings: The Return of the King [SEP] Release_Date: Oct 31, 2003 [SEP] Developers: EA Redwood Shores Electronic Arts [SEP] Genres: Adventure Brawler [SEP] Platforms: Windows PC Mac Nintendo GameCube Xbox Mobile Game Boy Advance PlayStation 2 [SEP] The video game adaption of the acclaimed film of the same name. The Lord of the Rings: The Return of the King is a follow up the well received adaption of the first two films in the trilogy. The game expands on what The Two Towers accomplished, with the action and adventure sequel introducing three separate story lines from the movie: one following Aragorn, Legolas, and Gimli, as The Two Towers did, another following Gandalf, and a third following Frodo and Sam, with Merry, Pippin, and Faramir serving as unlockable characters. Gameplay features were also expanded upon, including multiplayer.', 0.5166826248168945, tensor(1819, device='cuda:0'))\n",
      "('Return to Ravenholm [SEP] Release_Date: TBD [SEP] Developers: Arkane Studios Valve [SEP] Genres:  [SEP] Platforms: Windows PC [SEP] Return to Ravenholm was the working title of a cancelled Half-Life 2 spin-off developed by Arkane Studios from 2006 to 2007. The player takes the returning role of the HECU marine Adrian Shephard from Half-Life: Opposing Force on a trip to the zombie-infested European town of Ravenholm. It was planned to take place after the events of Half-Life 2 but before the end of Half-Life 2: Episode Two. The concept of a Ravenholm-centered episode was inherited by Arkane after Junction Point Studios\\' own project was cancelled. Arkane\\'s project was eventually cancelled by Valve as well much to the dismay of its developers, who were \"extremely emotionally invested\" in the project.', 0.5158417820930481, tensor(36405, device='cuda:0'))\n",
      "(\"F.E.A.R 3: Collector's Edition [SEP] Release_Date: Jun 24, 2011 [SEP] Developers: Day 1 Studios Warner Bros. Entertainment Inc. [SEP] Genres: Adventure Shooter [SEP] Platforms: Windows PC Xbox 360 PlayStation 3 [SEP] Alma returns in F.E.A.R. 3 but this time her sons Point Man and Paxton Fettel introduce divergent co-op, giving players distinctly different abilities affecting their own play as well as the experience of their co-op partner. Gamers participate in single player or co-op modes as Point Man, a genetically enhanced super soldier originally introduced in F.E.A.R., or they can play cooperatively as his conniving brother Paxton Fettel, whose incredible telekinetic power has given him life beyond the grave. The game is developed by Day 1 Studios, developer of the original F.E.A.R. console games in collaboration with Monolith Studios.\", 0.51457679271698, tensor(39135, device='cuda:0'))\n",
      "('The Legend of Zelda: A Link to the Past [SEP] Release_Date: Nov 21, 1991 [SEP] Developers: Nintendo Nintendo EAD [SEP] Genres: Adventure Puzzle [SEP] Platforms: Wii U Super Famicom SNES Wii New Nintendo 3DS Satellaview [SEP] The Legend of Zelda: A Link to the Past is a top-down action game with puzzle-solving elements similar to the original The Legend of Zelda. After the side-scrolling and RPG-like gameplay of Zelda II: The Adventure of Link, the game is a return to the top-down view and gameplay style of the first installment. It introduces major new items to the series such as the Master Sword and the concept of two different worlds, which was revisited to some extent in Ocarina of Time with two distinct time periods rather than dark and light worlds.', 0.5133795142173767, tensor(127, device='cuda:0'))\n",
      "(\"Disney's Aladdin in Nasira's Revenge [SEP] Release_Date: Dec 01, 2000 [SEP] Developers: Argonaut Games Sony Computer Entertainment, Inc. (SCEI) [SEP] Genres: Adventure Platform [SEP] Platforms: Windows PC PlayStation [SEP] Aladdin, Jasmine, and the Sultan thought things would settle down with the evil Jafar finally out of the picture. Well, they were wrong. Jafar's twin sister, Nasira, has arrived to take revenge on Agrabah, and she seems mighty determined to succeed. She captures Jasmine and the Sultan, and now it's up to you to help Aladdin find the ancient relics needed to free them. The only problem is that the relics will also free Jafar. Uh, oh ... Based on the Disney ALADDIN series, this is a challenge for gamers of all ages.\", 0.5121493339538574, tensor(18377, device='cuda:0'))\n",
      "(\"Cadence of Hyrule: Crypt of the NecroDancer Featuring the Legend of Zelda - Character Pack [SEP] Release_Date: Jul 20, 2020 [SEP] Developers: Brace Yourself Games Nintendo [SEP] Genres: Adventure Music [SEP] Platforms: Nintendo Switch [SEP] You'll be able to play as five additional characters in this DLC for Cadence of Hyrule: Crypt of the NecroDancer Featuring The Legend of Zelda. Play as Impa, Shadow Link, or Shadow Zelda from the Legend of Zelda series in addition to Frederick (the shopkeeper) and Aria (Cadence's grandmother) from Crypt of the NecroDancer. Each character has their own set of abilities - Impa can teleport behind enemies and Frederick comes back to life as a ghost!\\r\\nTake on All Character Mode's 21-floor dungeon and defeat Ganon with each character. Or, challenge yourself in Mystery Mode where all items and enemies are displayed as question marks!\", 0.5121225118637085, tensor(7862, device='cuda:0'))\n",
      "(\"The Legend of Zelda: Majora's Mask [SEP] Release_Date: Apr 27, 2000 [SEP] Developers: Nintendo Nintendo EAD [SEP] Genres: Adventure [SEP] Platforms: Wii U Wii Nintendo 64 [SEP] The Legend of Zelda: Majora's Mask is a direct sequel to Ocarina of Time, it utilizes the same engine and visual style as its predecessor. The game retains the traditional elements of Zelda games as well as those introduced in Ocarina of Time, such as active blocking with a shield, various throwing items, and the usage of melodies played on the ocarina to solve puzzles. Compared to the previous Zelda games, this installment is more oriented towards interaction with NPCs and has a larger variety of items, optional quests, and mini-games. It also includes a time system that spans three days, and this cycle must be reset periodically to progress through the game.\", 0.5120011568069458, tensor(83, device='cuda:0'))\n",
      "(\"Sakura Taisen V Episode 0: Kouya no Samurai Musume [SEP] Release_Date: Sep 22, 2004 [SEP] Developers: Sega [SEP] Genres: Adventure Brawler [SEP] Platforms: PlayStation 2 [SEP] Sakura Taisen V Episode 0: Kouya no Samurai Musume is a prequel to Sakura Wars: So Long, My Love starring one of that game's heroines, Gemini Sunrise. Instead of being an SRPG/visual novel-hybrid like the other games in the series, though, Episode 0 is an action-adventure game. While riding atop her equine companion Larry, Gemini fights evil robots using Japanese sword techniques. The game features experience points and equipment systems that allow the player to upgrade Gemini and Larry's capabilities as they see fit.\", 0.5119506120681763, tensor(30294, device='cuda:0'))\n",
      "('Hyrule Warriors: Definitive Edition [SEP] Release_Date: Mar 22, 2018 [SEP] Developers: Koei Tecmo Games Nintendo of America [SEP] Genres: Adventure Brawler [SEP] Platforms: Nintendo Switch [SEP] A new, ultimate version of the exhilarating action game set in the Zelda universe will include every map and mission, plus all 29 playable characters from both the Wii U and Nintendo 3DS versions of the game, along with all of the previous paid downloadable content. Play as Link, Zelda, Midna, Skull Kid and dozens more in action-packed battles at home or on the go. Additionally, the game includes new outfits for Link and Zelda based on the Legend of Zelda: Breath of the Wild game.', 0.5116558074951172, tensor(2040, device='cuda:0'))\n",
      "('The House of the Dead 4 [SEP] Release_Date: Jul 02, 2005 [SEP] Developers: WOW Entertainment Sega [SEP] Genres: Shooter [SEP] Platforms: PlayStation 3 Arcade [SEP] The House of the Dead 4 is a light gun arcade game with a horror theme and the fourth installment of the House of the Dead series of video games, developed by Sega. The game takes place between the events of The House of the Dead 2 and The House of the Dead III, and introduced several new gameplay concepts. Players can control characters James Taylor, from The House of the Dead 2, or Kate Green, a new character to the series. \\r\\n\\r\\nThe House of the Dead 4 is the first game to run on the Sega Lindbergh arcade system board. A PlayStation 3 version featuring support for PlayStation Move and the two stages from The House of the Dead 4 Special was released on April 17, 2012 on the PlayStation Network.', 0.5111212730407715, tensor(4940, device='cuda:0'))\n",
      "(\"The House of the Dead III [SEP] Release_Date: Jun 01, 2002 [SEP] Developers: Sega WOW Entertainment [SEP] Genres: Shooter [SEP] Platforms: Windows PC Xbox PlayStation 3 Arcade [SEP] The House of the Dead III is a 2002 light gun arcade game with a horror zombie-survival theme, and the third installment to the House of the Dead series of video games, developed by Wow Entertainment and Sega. It was later ported to the Xbox in 2003, Microsoft Windows in 2005, the Wii in 2008 in a compilation with The House of the Dead 2, and PlayStation 3 in 2012 with PlayStation Move support. The game continues the story of the previous games and introduces new gameplay concepts such as story branching. The game's protagonist is Lisa Rogan, daughter of Thomas Rogan, the first game's main character, and players control Lisa, G, or Daniel Curien.\", 0.5104174613952637, tensor(4798, device='cuda:0'))\n",
      "(\"The Legend of Zelda: Collector's Edition [SEP] Release_Date: Nov 07, 2003 [SEP] Developers: Nintendo [SEP] Genres: Adventure Platform Puzzle RPG [SEP] Platforms: Nintendo GameCube [SEP] Receive Four Complete Classic Zelda games all on one disc when you buy the Zelda GameCube Bundle: The Legend of Zelda, Zelda II - The adventure of Link, The Legend of Zelda: Ocarina of Time, The Legend of Zelda: Majora's Mask. The disc also includes: Playable Demo of the Legend of Zelda: The Wind Waker, Zelda Retrospective Movie, The Legend of Zelda: The Wind Waker Movie Preview.\", 0.5102065205574036, tensor(2764, device='cuda:0'))\n",
      "(\"Princess Crown [SEP] Release_Date: Dec 11, 1997 [SEP] Developers: Atlus [SEP] Genres: RPG [SEP] Platforms: PlayStation 4 Sega Saturn PlayStation Portable [SEP] You play as the thirteen-year-old princess Gradriel, the daughter of Elfrenne, queen of Valendria. Twenty-five years ago Elfrenne destroyed the demonic forces that were threatening the country. Now the queen has died, and Gradriel is proclaimed to be the future savior of the land, as it was not entirely purged of all evil. And indeed, an evil spirit has secretly invaded Valendria and is trying to take control over Gradriel's two older sisters. Will the young princess succeed in defeating the evil?\", 0.5101493000984192, tensor(6557, device='cuda:0'))\n",
      "('Neon Genesis Evangelion: Girlfriend of Steel [SEP] Release_Date: Feb 13, 1997 [SEP] Developers: Gainax Network Systems SEGA of Japan [SEP] Genres: Adventure Visual Novel [SEP] Platforms: Windows PC Mac Sega Saturn PlayStation PlayStation 2 PlayStation Portable [SEP] Neon Genesis Evangelion: Girlfriend of Steel, also known as Neon Genesis Evangelion: Iron Maiden, is a video game based on the Gainax anime/manga series Neon Genesis Evangelion, released officially only in Japan for the PlayStation, Sega Saturn, PlayStation 2, PSP, Windows (PC), and Macintosh. On January 20, 2005 a sequel was released titled \"Neon Genesis Evangelion: Girlfriend of Steel 2nd\" for the Playstation 2, and while it does feature much of the cast of the original game, the story is unrelated to the original\\'s.', 0.5088042616844177, tensor(4915, device='cuda:0'))\n",
      "(\"The Legend of Zelda: Oracle of Ages [SEP] Release_Date: Feb 27, 2001 [SEP] Developers: Nintendo Capcom Production Studio 1 [SEP] Genres: Adventure Puzzle RPG [SEP] Platforms: Nintendo 3DS Game Boy Color [SEP] The Legend of Zelda: Oracle of Ages is one of two Zelda titles released for the Game Boy Color, the other being Oracle of Seasons. The game retain many gameplay elements from Link's Awakening such as the graphics, audio and top-view perspective. It also features eight dungeons and a large overworld to explore like in the previous games. Oracle of Ages is said to be more puzzle-oriented than its counterpart being more action-oriented. After completing one of the two games, both can be linked to form a single linear plot with an alternate ending. Oracle of Ages and Oracle of Seasons were often credited as being two of the top games for the Game Boy Color.\", 0.5085633397102356, tensor(936, device='cuda:0'))\n",
      "(\"Harry Potter and the Chamber of Secrets [SEP] Release_Date: Nov 08, 2002 [SEP] Developers: Aspyr Media KnowWonder [SEP] Genres: Adventure Platform [SEP] Platforms: Windows PC Mac [SEP] Harry Potter and the Chamber of Secrets is the sequel to Harry Potter and the Sorcerer's Stone for PC and Mac. As its prequel, five different versions of this game were released for different gaming platforms. In this version, you control Harry in an action-adventure platforming gameplay. The most significant difference from the previous game is that gameplay is less linear, with Hogwarts becoming more of an open world. You can Interact with familiar characters from the movie like Ron, Hermione and of course Gilderoy Lockhart. Additionally, there are multiple mini-games and side quests.\", 0.5084643363952637, tensor(1716, device='cuda:0'))\n",
      "(\"Fire Emblem: The Binding Blade [SEP] Release_Date: Mar 29, 2002 [SEP] Developers: Nintendo R&D1 Nintendo [SEP] Genres: RPG Strategy Tactical [SEP] Platforms: Wii U Game Boy Advance [SEP] Fire Emblem: The Binding Blade is a Japanese tactical role-playing game developed by Intelligent Systems and published by Nintendo. The game was released on March 29, 2002 in Japan, is the sixth game in the Fire Emblem series, and the first of three games in the series that have appeared on Nintendo's Game Boy Advance handheld. It was the last Fire Emblem game to be released exclusively in Japan until the release of Fire Emblem: New Mystery of the Emblem. The Binding Blade was followed by a prequel, Fire Emblem: The Blazing Blade, set twenty years earlier.\", 0.5080525875091553, tensor(1296, device='cuda:0'))\n",
      "(\"The Lord of the Rings: The Fellowship of the Ring [SEP] Release_Date: Sep 26, 2002 [SEP] Developers: Pocket Studios Sierra Entertainment [SEP] Genres: Adventure [SEP] Platforms: Windows PC Xbox PlayStation 2 [SEP] J.R.R. Tolkien's Middle-earth is a land of beauty, magic, and darkness. In The Lord of the Rings: The Fellowship of the Ring, you follow Tolkien's narrative from the Shire to the halls of Moria, and finally to the banks of the River Anduin. Gameplay alternates between melee, archery, sorcery, and stealth as you control Frodo, Gandalf, and Aragorn. Join this band of heroes in their quest to destroy the One Ring, which contains all the power of the dark lord Sauron.\", 0.5077589750289917, tensor(3680, device='cuda:0'))\n",
      "('The Legend of Zelda: Ocarina of Time - Master Quest [SEP] Release_Date: Feb 28, 2002 [SEP] Developers: Nintendo Nintendo EAD Tokyo Software Development Group No.1 [SEP] Genres: Adventure Platform Puzzle RPG [SEP] Platforms: Nintendo GameCube Nintendo 64DD [SEP] The Legend of Zelda: Ocarina of Time - Master Quest is a reworked version of the original Ocarina of Time for the Nintendo 64. Master Quest contains largely the same content as the original game but with more redesigned and difficult dungeons. Master Quest was available on a special bonus disc that also contained the original Ocarina of Time, it was given out in limited quantities with preorders of The Wind Waker. It was previously developed to be released as an expansion to the original game via the Nintendo 64DD, but that version was cancelled due to the lackluster sales of the hardware.', 0.5068531036376953, tensor(2846, device='cuda:0'))\n",
      "(\"Barbie: The Princess and the Pauper [SEP] Release_Date: Oct 13, 2004 [SEP] Developers: Vivendi Universal [SEP] Genres:  [SEP] Platforms: Game Boy Advance [SEP] Barbie as the Princess and the Pauper is based on Barbie's home video take on the favorite fable. Erika are Anneliese beauties from two different worlds -- one a girl about town, the other a princess high in the land. When trouble starts in the kingdom, the two will have to solve puzzles and jump across dangers in 20 stages of adventure. Barbie as the Princess and the Pauper features two-player minigames and the ability to play as Erika, Anneliese, and even the royal cats Wolfie and Serafina!\", 0.506732702255249, tensor(38919, device='cuda:0'))\n",
      "('The House of the Dead 2 [SEP] Release_Date: Nov 01, 1998 [SEP] Developers: WOW Entertainment Sega [SEP] Genres: Shooter [SEP] Platforms: Windows PC Arcade Dreamcast [SEP] The House of the Dead 2 is a first-person light gun shooter arcade game with a horror theme and the second game in The House of the Dead series of video games. The direct sequel to The House of the Dead, it was developed by Sega for arcades on the Sega NAOMI board in November 1998 then later ported to the Dreamcast in 1999 and Microsoft Windows in 2001, and is also found on the Xbox as an unlockable bonus in The House of the Dead III. The game appears in the compilation The House of the Dead 2 & 3 Return for Wii. The Dreamcast version became a Sega All Stars title.', 0.506681501865387, tensor(2725, device='cuda:0'))\n",
      "('TimeSplitters: Future Perfect [SEP] Release_Date: Mar 21, 2005 [SEP] Developers: Free Radical Design Electronic Arts [SEP] Genres: Shooter [SEP] Platforms: Nintendo GameCube Xbox PlayStation 2 [SEP] TimeSplitters: Future Perfect is a first-person shooter video game developed by Free Radical Design and published by EA Games for the PlayStation 2, GameCube and Xbox video game consoles.\\r\\nIt is the third game in the TimeSplitters series, after TimeSplitters 2, which was released in 2002 (itself the sequel to TimeSplitters released in 2000). The game features a single-player mode consisting of levels where the player assumes the role of Sergeant Cortez, a time-traveling marine from the 25th century.', 0.5066288709640503, tensor(2015, device='cuda:0'))\n",
      "(\"Freshly-Picked Tingle's Rosy Rupeeland [SEP] Release_Date: Sep 02, 2006 [SEP] Developers: Vanpool Nintendo [SEP] Genres: Adventure [SEP] Platforms: Nintendo DS [SEP] Freshly-Picked Tingle's Rosy Rupeeland is an adventure video game developed by Vanpool and published by Nintendo for the Nintendo DS handheld game console. It was first released in Japan, and was released in Europe on September 14, 2007, a year after its Japanese release.\\r\\nFreshly-Picked Tingle's Rosy Rupeeland stars Tingle, a character who has appeared in several games in The Legend of Zelda series starting from The Legend of Zelda: Majora's Mask for the Nintendo 64. It was commercially successful in Japan, selling 234,862 units by the end of 2007.\", 0.5055687427520752, tensor(4205, device='cuda:0'))\n",
      "(\"A Bug's Life [SEP] Release_Date: Oct 31, 1998 [SEP] Developers: Activision Traveller's Tales [SEP] Genres: Adventure Platform [SEP] Platforms: Windows PC PlayStation Nintendo 64 [SEP] A Bug's Life is a video game based on the Disney/Pixar film of the same name. It was released for various systems in 1998 and in 1999. The game's storyline is similar to that of the movie, with a few changes. After completing levels the player can unlock real clips from the movie. Its Game.com, Sega Saturn, and Dreamcast versions were cancelled.\\r\\nThough the film was Roddy McDowall's final theatrical performance, the game was his final work before his death.\", 0.5047756433486938, tensor(2830, device='cuda:0'))\n",
      "(\"Penny Arcade Adventures: On the Rain-Slick Precipice of Darkness - Episode Two [SEP] Release_Date: Oct 29, 2008 [SEP] Developers: Penny Arcade, Inc. Hothead Games [SEP] Genres: Adventure RPG [SEP] Platforms: Windows PC Mac Xbox 360 Linux PlayStation 3 [SEP] On the Rain-Slick Precipice of Darkness, Episode Two is the second installment in the RPG-adventure game series based on the web comic Penny Arcade. Whether you're a fan of the first installment or new to the series, you'll be able to pick up and play Episode Two as a standalone experience. Create your character in the classic comic style, and join Gabe and Tycho in the alternate 1920s universe of New Arcadia, where you'll combat savage enemies, solve mysteries, meet bizarre new characters, and discover their distinctive adult humor for a 100% authentic Penny Arcade experience.\", 0.504636824131012, tensor(22003, device='cuda:0'))\n",
      "(\"Disney's Bonkers [SEP] Release_Date: Oct 01, 1994 [SEP] Developers: Capcom Disney Interactive Studios [SEP] Genres: Platform [SEP] Platforms: SNES [SEP] Three of Toontown's most precious treasures, the Sorcerer's Hat (from Fantasia), the Mermaid's Voice (The Little Mermaid), and the Magic Lamp (Aladdin), are stolen. After a car accident Lucky Piquel is hospitalized and as such, Bonkers D. Bobcat has to resolve this case alone.\\r\\nAfter traveling trough places like Wackytoon Studios and the city of Hollywood and facing old enemies like The Collector and Pops Clock, Bonkers manages to recover all the treasures thus concluding the game.\", 0.5044974088668823, tensor(27912, device='cuda:0'))\n",
      "('Ratchet & Clank Future: A Crack in Time [SEP] Release_Date: Oct 27, 2009 [SEP] Developers: Sony Computer Entertainment Insomniac Games [SEP] Genres: Adventure Arcade Platform Shooter [SEP] Platforms: PlayStation 3 [SEP] Ratchet & Clank Future: A Crack in Time (known as Ratchet & Clank: A Crack in Time in most PAL countries) is a platform game developed by Insomniac Games and published by Sony Computer Entertainment for the PlayStation 3 video game console. It is the sequel to Ratchet & Clank Future: Tools of Destruction and Ratchet & Clank Future: Quest for Booty. The game was released for the PlayStation 3 in North America on October 27, 2009, in Australia on November 5, 2009, and in Europe on November 6, 2009.\\r\\nA fourth installment, titled Ratchet & Clank: Into the Nexus, was released in November 2013 for the PlayStation 3.', 0.504287600517273, tensor(1794, device='cuda:0'))\n",
      "(\"Star Wars: Shadows of the Empire [SEP] Release_Date: Dec 03, 1996 [SEP] Developers: Nintendo LucasArts [SEP] Genres: Adventure Shooter [SEP] Platforms: Windows PC Nintendo 64 [SEP] As Luke Skywalker and the Rebel Alliance struggle to defeat Darth Vader and the Empire, a new threat arises. Dark Prince Xizor aspires to take Darth Vader's place at the Emperor's side. As Dash Rendar, it's up to you to protect Luke and help the Alliance. May the Force be with you!\", 0.5040985345840454, tensor(2569, device='cuda:0'))\n",
      "('The Legend of Zelda: Breath of the Wild [SEP] Release_Date: Mar 03, 2017 [SEP] Developers: Nintendo Nintendo EPD Production Group No. 3 [SEP] Genres: Adventure Puzzle [SEP] Platforms: Wii U Nintendo Switch [SEP] The Legend of Zelda: Breath of the Wild is the first 3D open-world game in the Zelda series. Link can travel anywhere and be equipped with weapons and armor found throughout the world to grant him various bonuses. Unlike many games in the series, Breath of the Wild does not impose a specific order in which quests or dungeons must be completed. While the game still has environmental obstacles such as weather effects, inhospitable lands, or powerful enemies, many of them can be overcome using the right method. A lot of critics ranked Breath of the Wild as one of the best video games of all time.', 0.5040963888168335, tensor(1, device='cuda:0'))\n",
      "('Zelda II: The Adventure of Link [SEP] Release_Date: Jan 14, 1987 [SEP] Developers: Nintendo Nintendo EAD [SEP] Genres: Adventure RPG [SEP] Platforms: Wii U Wii Family Computer Disk System Nintendo 3DS NES [SEP] Zelda II: The Adventure of Link is the second major installment in The Legend of Zelda series and the direct sequel to the first game. Like its predecessor, it features dungeons that must be located in the overworld and searched for an item that will prove useful. However, the game presents many very important gameplay changes compared to the previous one, affecting especially the movements and the combat. Moving around the world map involves encounters with enemies that take place on a side-scrolling playfield rather than the top-down perspective for which the series became known.', 0.5036897659301758, tensor(614, device='cuda:0'))\n",
      "(\"Half-Life: Blue Shift [SEP] Release_Date: Jun 12, 2001 [SEP] Developers: Sierra Studios Gearbox Software [SEP] Genres: Platform Puzzle Shooter [SEP] Platforms: Windows PC Mac Linux [SEP] Half-Life: Blue Shift is an expansion pack for Valve Software's science fiction first-person shooter video game Half-Life. The game was developed by Gearbox Software with Valve Corporation and published by Sierra Entertainment on June 12, 2001. (It was originally set for release in Spring.) Blue Shift is the second expansion for Half-Life, originally intended as part of a Dreamcast version of the original game. Although the Dreamcast port was later cancelled, the PC version continued development and was released as a standalone product. The game was released on Steam on August 24, 2005.\", 0.5035744309425354, tensor(1166, device='cuda:0'))\n",
      "(\"Seduce Me 2: The Demon War [SEP] Release_Date: May 23, 2016 [SEP] Developers: Michaela Laws [SEP] Genres: Adventure Indie RPG Simulator [SEP] Platforms: Windows PC Mac Linux [SEP] Seduce Me 2: The Demon War is the sequel to the popular free-to-play otome game, Seduce Me the Otome. It follows the story of Mika Anderson as she is suddenly thrown into the Abyssal Plains right before she is about to be married to one of the five Incubi Brothers featured in the first game. What's even worse is that she is thrown there in the middle of a Rebellion against the Evil Demon Lord and must not only assist Diana and the Rebel Leaders in the war, but must watch as the man she loves fights alongside them after he comes to rescue her.\", 0.503426194190979, tensor(33838, device='cuda:0'))\n",
      "(\"Tales of Eternia [SEP] Release_Date: Nov 30, 2000 [SEP] Developers: Namco Tales Studio Namco [SEP] Genres: RPG [SEP] Platforms: PlayStation PlayStation Portable [SEP] Tales of Eternia is an action japanese role playing game, with real time battle scenes (combos and spells can be assigned to the face buttons).\\r\\nThe game is set in the fantasy world of Inferia, follows the story of a young hunter named Reid Hershel and his friends, Farah and Keele, as they meet a mysterious girl who speaks an unknown language. Their subsequent quest to discover her origins leads them across a dimensional boundary to an entirely different realm known as Celestia, where they become involved in an age-old conflict between the two worlds.\\r\\nIt would later inspire a 13-episode anime co-produced by Production I.G loosely based on the game's plot.\", 0.5030672550201416, tensor(3018, device='cuda:0'))\n",
      "('Link: The Faces of Evil [SEP] Release_Date: Oct 10, 1993 [SEP] Developers: Philips Interactive Media, Inc. Animation Magic [SEP] Genres: Adventure [SEP] Platforms: Philips CD-i [SEP] Link: The Faces of Evil was the product of a compromise between Nintendo and Philips following their failure to release a CD-ROM based add-on to the Super Nintendo Entertainment System. The Faces of Evil differ from most conventional Zelda games as it is a platformer with a side-scrolling view, similar to The Adventure of Link. Stages are accessed from a world map, with more becoming available as Link clears an area or defeats a boss. The game have been subject to much criticism and Nintendo does not recognize it as part of the series.', 0.5023277401924133, tensor(25455, device='cuda:0'))\n",
      "(\"Harry Potter and the Deathly Hallows: Part 1 [SEP] Release_Date: Nov 16, 2010 [SEP] Developers: Electronic Arts [SEP] Genres: Shooter [SEP] Platforms: Windows PC Xbox 360 PlayStation 3 Wii [SEP] Harry Potter and the Deathly Hallows: Part 1 is an adaption of the movie of the same name. The player takes the role of Harry Potter on his quest to find the Horcruxes, the source of the villain's immortality. The gameplay is similar to Harry Potter and the Goblet of Fire, as it is an action video game, not a video game of making potions, playing Quidditch or exploring Hogwarts. There is no RPG iteration of the game, unlike with previous titles.\", 0.5022749900817871, tensor(3627, device='cuda:0'))\n",
      "(\"Final Fight One [SEP] Release_Date: Sep 26, 2001 [SEP] Developers: Capcom [SEP] Genres: Arcade Brawler Fighting [SEP] Platforms: Wii U Game Boy Advance [SEP] Classic arcade action is unleased on the Game Boy Advance system in Final Fight One. There's trouble in Metro City. The members of the Mad Gear Gang have kidnapped the mayor's daughter Jessica and the clock is ticking. The mayor, an ex-street fighter himself, calls in the big guns to help, enlisting the iron fist team of Cody and Guy. Now, it's a race against time to scour the city, defeat an army of the Mad Gear Gang's minions, and rescue Jessica before it's too late!\", 0.5018588304519653, tensor(40420, device='cuda:0'))\n",
      "tensor([0.4057, 0.5041, 0.4024, 0.4010, 0.4060], device='cuda:0')\n"
     ]
    }
   ],
   "source": [
    "results, similarities = get_top_k_documents('zelda', pooling='mean', top_k=40)\n",
    "for item in results:\n",
    "    print(item)\n",
    "\n",
    "print(similarities[:5])"
   ]
  },
  {
   "cell_type": "markdown",
   "metadata": {},
   "source": [
    "## Generate Results"
   ]
  },
  {
   "cell_type": "code",
   "execution_count": 6,
   "metadata": {},
   "outputs": [
    {
     "name": "stdout",
     "output_type": "stream",
     "text": [
      "Query: the witcher 3\n",
      "Query: Wild hunt\n",
      "Query: Botw\n",
      "Query: final fantasy\n",
      "Query: Monster hunter\n",
      "Query: Upcoming indie platformers for PC\n",
      "Query: Top-rated multiplayer FPS games on PlayStation 5\n",
      "Query: Best open-world RPG titles for Xbox Series X\n",
      "Query: Story-driven adventure games with strong plot\n",
      "Query: Kid-friendly Switch games for family play\n",
      "Query: Turn-based strategy games released in the last year\n",
      "Query: Retro arcade games with modern ports\n",
      "Query: Local co-op platformers on Steam\n",
      "Query: Best VR-exclusive games on Oculus Quest\n",
      "Query: Top survival horror games of all time\n",
      "Query: Open-world fantasy games like The Elder Scrolls\n",
      "Query: Recommended 2D fighters for beginner players\n",
      "Query: High-rated indie roguelike deckbuilders\n",
      "Query: Free-to-play battle royale games for mobile\n",
      "Query: Remastered classic JRPGs on current-gen consoles\n",
      "Query: Popular city-building simulation games\n",
      "Query: Co-op puzzle-platformers for Nintendo Switch\n",
      "Query: Easygoing life sims for relaxing gameplay\n",
      "Query: Hardcore survival simulators with crafting elements\n",
      "Query: Top post-apocalyptic RPGs with rich storytelling\n",
      "Query: PC racing games with realistic physics\n",
      "Query: Best single-player games under 10 hours long\n",
      "Query: Metroidvania games with pixel art style\n",
      "Query: Fast-paced hack-and-slash action games\n",
      "Query: MMOs that offer free trials\n",
      "Query: Digital board game adaptations for tablet\n",
      "Query: Where to find new indie puzzle games\n",
      "Query: Hardest Souls-like games on PlayStation 5\n",
      "Query: Family-friendly party games for holidays\n",
      "Query: Cross-platform shooters with voice chat\n",
      "Query: How to find hidden gem strategy RPGs\n",
      "Query: Point-and-click adventure games from the 90s\n",
      "Query: Top-rated dating sims available on Steam\n",
      "Query: Recommended top-down shooters with co-op\n",
      "Query: Episodic adventure games similar to Telltale’s style\n",
      "Query: Underrated stealth action games for PC\n",
      "Query: AAA games\n",
      "Query: Open-world pirate games beyond Sea of Thieves\n",
      "Query: Turn-based tactics games similar to XCOM\n",
      "Query: Best party games for local multiplayer\n",
      "Query: High-speed futuristic racers like Wipeout\n",
      "Query: Anime-inspired ARPGs on Switch\n",
      "Query: Games with unique art styles like Okami\n",
      "Query: Best city management sims for budget PCs\n",
      "Query: Historical strategy games set in medieval times\n",
      "Query: Building and crafting games like Minecraft\n",
      "Query: Cozy farming sims with romance options\n",
      "Query: How to find the scariest VR horror games\n",
      "Query: Sports management simulators for soccer\n",
      "Query: Heavily modded RPGs for advanced players\n",
      "Query: Superhero action-adventure games with open worlds\n",
      "Query: Fantasy co-op dungeon crawlers on PC\n",
      "Query: Rhythm-based music games with multiplayer modes\n",
      "Query: Narrative-driven walking simulators on console\n",
      "Query: Escape room–style puzzle games\n",
      "Query: Lovecraftian horror games with deep lore\n",
      "Query: Games with branching storylines and multiple endings\n",
      "Query: Co-op beat ‘em up games with retro vibes\n",
      "Query: Mobile AR games like Pokémon GO\n",
      "Query: Detective mystery games with choice-based outcomes\n",
      "Query: Best tower defense titles on tablet or phone\n",
      "Query: Endless runner games for smartphones\n",
      "Query: Indie games featuring pixel-art cyberpunk themes\n",
      "Query: Lighthearted sandbox games for creative building\n",
      "Query: Most popular VR exercise games\n",
      "Query: Underwater exploration games like Subnautica\n",
      "Query: Best comedic point-and-click adventures\n",
      "Query: Steampunk-themed RPGs to try\n",
      "Query: Military simulation shooters for hardcore gamers\n",
      "Query: Side-scrolling shoot ‘em ups with local co-op\n",
      "Query: Easiest ways to discover classic console remakes\n",
      "Query: Medieval fantasy sandbox survival games\n",
      "Query: Unique puzzle games similar to Portal\n",
      "Query: Emotional storytelling games with minimal combat\n",
      "Query: Retro-inspired roguelikes with pixel graphics\n",
      "Query: Dynamic hack-and-slash dungeon crawlers\n",
      "Query: Xbox-exclusive RPGs worth playing\n",
      "Query: Platforming challenges for speedrunners\n",
      "Query: Co-op horror survival games with voice chat\n",
      "Query: Games like Stardew Valley with deeper farming mechanics\n",
      "Query: Sci-fi space exploration sims on PC\n",
      "Query: New cross-gen JRPGs this year\n",
      "Query: Deckbuilding card games with roguelike elements\n",
      "Query: Cyberpunk open-world games besides Cyberpunk 2077\n",
      "Query: Mobile idle clicker games with progression systems\n",
      "Query: Competitive sports titles with official licenses\n",
      "Query: Games with top-notch orchestral soundtracks\n",
      "Query: Best puzzle-adventure games for Nintendo Switch Lite\n",
      "Query: Non-violent cooperative adventure games\n",
      "Query: Realistic flight simulators with VR support\n",
      "Query: Western-style RPGs with branching dialogue\n",
      "Query: Military real-time strategy games for PC\n",
      "Query: Local couch co-op games for four players\n",
      "Query: Puzzle platformers for younger kids\n",
      "Query: Underrated cinematic action-adventure games\n",
      "Query: Best comedic dungeon crawlers with loot systems\n",
      "Query: Space colony management games with survival elements\n",
      "Query: PC-exclusive shooters with modding communities\n",
      "Query: Highly replayable roguelikes for short sessions\n"
     ]
    }
   ],
   "source": [
    "queries = pd.read_csv(os.path.join(os.path.dirname(os.getcwd()), 'queries.csv'))\n",
    "queries = queries['Query'].to_list()\n",
    "data = []\n",
    "for query in queries:\n",
    "    print(f\"Query: {query}\")\n",
    "    results, similarities = get_top_k_documents(query, pooling='mean', top_k=40)\n",
    "    for item in results:\n",
    "        data.append({'Query': query, 'Title': games.iloc[item[2].item()]['Title'], 'ID': item[2].item(), 'Similarity': item[1]})"
   ]
  },
  {
   "cell_type": "code",
   "execution_count": 7,
   "metadata": {},
   "outputs": [],
   "source": [
    "result_df = pd.DataFrame(data)\n",
    "result_df = pd.merge(result_df, games.drop(columns=['Documents']), on='Title', how='left')\n",
    "result_df.to_csv('results_bert_wo_mask.csv', index=False)"
   ]
  },
  {
   "cell_type": "markdown",
   "metadata": {},
   "source": [
    "# TF-IDF"
   ]
  },
  {
   "cell_type": "code",
   "execution_count": 8,
   "metadata": {},
   "outputs": [],
   "source": [
    "# Ensure games_df is the filtered one (same as used to build `documents`)\n",
    "games_df = games.reset_index(drop=True)\n",
    "\n",
    "# TF-IDF Vectorization\n",
    "vectorizer = TfidfVectorizer(stop_words=\"english\", max_features=10000)\n",
    "doc_tfidf = vectorizer.fit_transform(documents)\n",
    "query_tfidf = vectorizer.transform(queries)\n",
    "\n",
    "# Compute cosine similarity between queries and documents\n",
    "similarity_scores = cosine_similarity(query_tfidf, doc_tfidf)\n",
    "\n",
    "# Prepare top 40 results\n",
    "results = []\n",
    "top_k = 40\n",
    "\n",
    "for query_idx, (query_text, scores) in enumerate(zip(queries, similarity_scores)):\n",
    "    top_indices = scores.argsort()[::-1][:top_k]\n",
    "    \n",
    "    for game_idx in top_indices:\n",
    "        game = games_df.iloc[game_idx]\n",
    "        results.append({\n",
    "            \"Query\": query_text,\n",
    "            \"Title\": game[\"Title\"],\n",
    "            \"ID\": game.name,\n",
    "            \"Similarity\": scores[game_idx],\n",
    "            \"Release_Date\": game[\"Release_Date\"],\n",
    "            \"Developer\": \" | \".join(game[\"Developers\"]),\n",
    "            \"Summary\": game[\"Summary\"],\n",
    "            \"Platforms\": \" | \".join(game[\"Platforms\"]),\n",
    "            \"Genres\": \" | \".join(game[\"Genres\"]),\n",
    "            \"Rating\": game[\"Rating\"],\n",
    "            \"Plays\": game[\"Plays\"],\n",
    "            \"Playing\": game[\"Playing\"],\n",
    "            \"Backlogs\": game[\"Backlogs\"],\n",
    "            \"Wishlist\": game[\"Wishlist\"],\n",
    "            \"Lists\": game[\"Lists\"],\n",
    "            \"Reviews\": game[\"Reviews\"]\n",
    "        })"
   ]
  },
  {
   "cell_type": "markdown",
   "metadata": {},
   "source": [
    "## Generate Results"
   ]
  },
  {
   "cell_type": "code",
   "execution_count": 9,
   "metadata": {},
   "outputs": [
    {
     "name": "stdout",
     "output_type": "stream",
     "text": [
      "TF-IDF results saved to results_tfidf.csv.\n"
     ]
    }
   ],
   "source": [
    "# Save to CSV\n",
    "results_df = pd.DataFrame(results)\n",
    "results_df.to_csv(\"results_tfidf.csv\", index=False)\n",
    "\n",
    "print(\"TF-IDF results saved to results_tfidf.csv.\")"
   ]
  },
  {
   "cell_type": "markdown",
   "metadata": {},
   "source": [
    "# BM-25"
   ]
  },
  {
   "cell_type": "code",
   "execution_count": 10,
   "metadata": {},
   "outputs": [],
   "source": [
    "def BM_25_matrix_creation(documents, k_1, b, max_features=50000, min_df=2):\n",
    "    \"\"\"\n",
    "    Pre-computes the BM-25 matrix as a sparse matrix. Having it as a normal matrix makes the computation really expensive\n",
    "    \"\"\"\n",
    "\n",
    "    # Defines a pipeline where the first transformation creates the term-document count matrix and the second transforms it into the TF-IDF matrix\n",
    "    # The pipeline is needed to have access to the term document count matrix \n",
    "    pipe = Pipeline([('count', CountVectorizer(max_features=max_features, min_df=min_df)), ('tfid', TfidfTransformer())]).fit(documents)\n",
    "    term_doc_matrix = pipe['count'].transform(documents)\n",
    "\n",
    "    # Defines the variables used in the BM-25 formula\n",
    "    doc_lengths, avg_dl, idfs, tfs = term_doc_matrix.sum(axis=1), np.mean(term_doc_matrix.sum(axis=1)), pipe['tfid'].idf_.reshape(1, -1), term_doc_matrix.multiply(1 / term_doc_matrix.sum(axis=1))\n",
    "\n",
    "    # Calculates the BM-25 matrix\n",
    "    # .multiply is the scipy sparse matrix multiplication method \n",
    "    numerator = (k_1 + 1) * tfs\n",
    "    denominator = k_1 * ((1 - b) + b * (doc_lengths / avg_dl)) + tfs\n",
    "    BM25 = numerator.multiply(1 / denominator)\n",
    "    BM25 = BM25.multiply(idfs)\n",
    "\n",
    "    # Maps each of the terms in the vocabulary to an index\n",
    "    vocab = pipe['count'].get_feature_names_out()\n",
    "    vocab = {term:index for index, term in enumerate(vocab)}\n",
    "    \n",
    "    return BM25.tocsr(), vocab # A CSR matrix enables matrix slicing and indexing\n",
    "\n",
    "# max_features = maximum number of terms, min_df = number of occurrences required to include the term in the matrix\n",
    "BM25, vocab = BM_25_matrix_creation(documents, k_1=1.2, b=0.8, max_features=50000, min_df=1)"
   ]
  },
  {
   "cell_type": "markdown",
   "metadata": {},
   "source": [
    "## Generate Results"
   ]
  },
  {
   "cell_type": "code",
   "execution_count": 11,
   "metadata": {},
   "outputs": [],
   "source": [
    "def retrieve_top_k(query, BM25_matrix, vocabulary, doc_titles, epsilon=1e-6, top_k=40):\n",
    "    \"\"\"\n",
    "    Retrieves the top k documents from a singular given query\n",
    "    \"\"\"\n",
    "\n",
    "    # Returns the term indices for the terms in the query or OOV (Out-Of-Vocab) if the term is not found in vocab\n",
    "    query_tokens = [vocabulary[term] if term in vocabulary else 'OOV' for term in query]\n",
    "\n",
    "    # Returns only the In-Vocab tokens\n",
    "    IV = [term for term in query_tokens if term != 'OOV']\n",
    "\n",
    "\n",
    "    if len(IV) != 0:\n",
    "\n",
    "        # Filters the BM25 matrix to only the In-Vocab terms and sums the scores across each document\n",
    "        doc_scores = BM25_matrix[:, IV].sum(axis=1)\n",
    "        if 'OOV' in query:\n",
    "            doc_scores += np.full((BM25_matrix.shape[0], 1), epsilon) # Adds a small epsilon constant if 'OOV' is in the query\n",
    "\n",
    "    else:\n",
    "        doc_scores = np.full((BM25_matrix.shape[0], 1), epsilon) # Defaults to the small epsilon constant if no IV terms in the query\n",
    "\n",
    "    # Flattens the doc scores to a 1D array\n",
    "    doc_scores = np.ravel(doc_scores)\n",
    "    \n",
    "    # Ranked docs are returned in the format -> (doc_ID, doc_title), score\n",
    "    ranked_docs = sorted(zip(enumerate(doc_titles), doc_scores), key=lambda zipper: zipper[1], reverse=True)\n",
    "    top_k_docs = ranked_docs[:top_k]\n",
    "\n",
    "    return top_k_docs\n",
    "\n",
    "queries = pd.read_csv(os.path.join(os.path.dirname(os.getcwd()), 'queries.csv'))\n",
    "queries = [x.split() for x in queries['Query'].to_list()]\n",
    "\n",
    "# Retrieves results for each of the queries and reformats the results -> (query, doc_title, doc_ID, score)\n",
    "results = []\n",
    "for query in queries:\n",
    "    top_k = retrieve_top_k(query, BM25, vocab, games['Title'])\n",
    "    top_k = [(' '.join(query), k[0][1], k[0][0], k[1]) for k in top_k]\n",
    "    for k in top_k: results.append(k)\n",
    "\n",
    "# Saves the results to a dataframe with the full document data and exports as a csv\n",
    "results_df = pd.DataFrame(results, columns=['Query','Title','ID','Similarity'])\n",
    "results_df = pd.merge(results_df, games.drop(columns=['Documents']), how='left', on='Title')\n",
    "results_df.to_csv('results_BM25.csv', index=False)"
   ]
  },
  {
   "cell_type": "markdown",
   "metadata": {},
   "source": [
    "# Result Pooling"
   ]
  },
  {
   "cell_type": "code",
   "execution_count": 12,
   "metadata": {},
   "outputs": [],
   "source": [
    "# Concatenates the three result csv files then saves the result as a new csv\n",
    "bert_results, bm25_results, tfidf_results = pd.read_csv('results_bert_wo_mask.csv'), pd.read_csv('results_BM25.csv'), pd.read_csv('results_tfidf.csv')\n",
    "unpooled_results = pd.concat([bert_results, bm25_results, tfidf_results], axis=0, ignore_index=True)\n",
    "unpooled_results.to_csv('results_UNPOOLED.csv', index=False)\n",
    "\n",
    "# Removes the duplicates according to the query and ID -> Only unique retrieved documents for each query\n",
    "pooled_results = unpooled_results.drop_duplicates(subset=['Query','ID'], ignore_index=True)\n",
    "pooled_results.to_csv('results.csv', index=False)"
   ]
  },
  {
   "cell_type": "code",
   "execution_count": null,
   "metadata": {},
   "outputs": [],
   "source": []
  }
 ],
 "metadata": {
  "kernelspec": {
   "display_name": "Information_retrieval",
   "language": "python",
   "name": "python3"
  },
  "language_info": {
   "codemirror_mode": {
    "name": "ipython",
    "version": 3
   },
   "file_extension": ".py",
   "mimetype": "text/x-python",
   "name": "python",
   "nbconvert_exporter": "python",
   "pygments_lexer": "ipython3",
   "version": "3.13.2"
  }
 },
 "nbformat": 4,
 "nbformat_minor": 2
}
