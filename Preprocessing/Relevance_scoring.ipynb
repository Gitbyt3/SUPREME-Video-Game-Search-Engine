{
 "cells": [
  {
   "cell_type": "code",
   "execution_count": 62,
   "metadata": {},
   "outputs": [],
   "source": [
    "import pandas as pd\n",
    "import os"
   ]
  },
  {
   "cell_type": "code",
   "execution_count": 63,
   "metadata": {},
   "outputs": [],
   "source": [
    "results = pd.read_csv(os.path.join(os.getcwd(), 'Results', 'results.csv'))\n",
    "unique_queries = results['Query'].unique()\n",
    "name_query = {'jason':unique_queries[:26], 'xiao':unique_queries[26:52], 'gracie':unique_queries[52:78], 'lucas':unique_queries[78:]}\n",
    "\n",
    "name = input(\"Please type in your name\").lower()\n",
    "while name not in name_query:\n",
    "    name = input(\"Only a valid name from group 69 please.\")"
   ]
  },
  {
   "cell_type": "code",
   "execution_count": 64,
   "metadata": {},
   "outputs": [],
   "source": [
    "finished_scores = os.listdir(os.path.join(os.getcwd(), 'Relevance_scores'))\n",
    "if 'scores_' + name + '.csv' not in finished_scores:\n",
    "    queries = name_query[name]\n",
    "    "
   ]
  },
  {
   "cell_type": "code",
   "execution_count": null,
   "metadata": {},
   "outputs": [],
   "source": []
  }
 ],
 "metadata": {
  "kernelspec": {
   "display_name": "Information_retrieval",
   "language": "python",
   "name": "python3"
  },
  "language_info": {
   "codemirror_mode": {
    "name": "ipython",
    "version": 3
   },
   "file_extension": ".py",
   "mimetype": "text/x-python",
   "name": "python",
   "nbconvert_exporter": "python",
   "pygments_lexer": "ipython3",
   "version": "3.13.2"
  }
 },
 "nbformat": 4,
 "nbformat_minor": 2
}
