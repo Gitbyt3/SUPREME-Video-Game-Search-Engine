{
 "cells": [
  {
   "cell_type": "markdown",
   "metadata": {},
   "source": [
    "## INSTRUCTIONS\n",
    "1. Make sure the Relevance_scores folder (and all the csv files inside) are downloaded\n",
    "2. Run all the cells in this notebook\n",
    "3. Input your name\n",
    "4. Grade results between 0 and 3 (your scores will save every 20 documents to the relevant csv file)\n",
    "5. Upload the completed csv file to Github"
   ]
  },
  {
   "cell_type": "code",
   "execution_count": null,
   "metadata": {},
   "outputs": [],
   "source": [
    "import pandas as pd\n",
    "import numpy as np\n",
    "import os\n",
    "\n",
    "pd.set_option('display.max_colwidth', 190)"
   ]
  },
  {
   "cell_type": "code",
   "execution_count": null,
   "metadata": {},
   "outputs": [],
   "source": [
    "\"\"\"\n",
    "Initial score csv file creations using a sample of 50 queries and k=20\n",
    "DON'T RUN\n",
    "\"\"\"\n",
    "\n",
    "# results = pd.read_csv(os.path.join(os.getcwd(), 'Results', 'results.csv'))\n",
    "# results['Score'] = 10\n",
    "# unique_queries_sampled = results['Query'].unique()\n",
    "# rng = np.random.default_rng(420)\n",
    "# unique_queries = rng.choice(unique_queries_sampled, size=50, replace=False)\n",
    "\n",
    "# name_query = {'jason':unique_queries[:12], 'xiao':unique_queries[12:24], 'gracie':unique_queries[24:36], 'lucas':unique_queries[36:]}\n",
    "# scores_jason, scores_xiao = results.loc[results['Query'].isin(name_query['jason'])], results.loc[results['Query'].isin(name_query['xiao'])]\n",
    "# scores_gracie, scores_lucas = results.loc[results['Query'].isin(name_query['gracie'])], results.loc[results['Query'].isin(name_query['lucas'])]\n",
    "# scores_jason.to_csv(os.path.join(os.getcwd(), 'Relevance_scores', 'scores_jason.csv'), index=False)\n",
    "# scores_xiao.to_csv(os.path.join(os.getcwd(), 'Relevance_scores', 'scores_xiao.csv'), index=False)\n",
    "# scores_gracie.to_csv(os.path.join(os.getcwd(), 'Relevance_scores', 'scores_gracie.csv'), index=False)\n",
    "# scores_lucas.to_csv(os.path.join(os.getcwd(), 'Relevance_scores', 'scores_lucas.csv'), index=False)"
   ]
  },
  {
   "cell_type": "code",
   "execution_count": null,
   "metadata": {},
   "outputs": [],
   "source": [
    "name = input(\"Please type in your name\").lower()\n",
    "while name not in ['lucas', 'jason', 'xiao', 'gracie']:\n",
    "    name = input(\"Only a valid name from group 69 please.\")\n",
    "\n",
    "scores = pd.read_csv(os.path.join(os.getcwd(), 'Relevance_scores', 'scores_' + name + '.csv'))"
   ]
  },
  {
   "cell_type": "code",
   "execution_count": null,
   "metadata": {},
   "outputs": [],
   "source": [
    "count = 0\n",
    "for index, row in scores.iterrows():\n",
    "    if row['Score'] != 10:\n",
    "        continue\n",
    "    else:\n",
    "        display(row)\n",
    "\n",
    "        score = input('Input score between 0-3')\n",
    "        while score not in ['0', '1', '2', '3']:\n",
    "            score = input('Only a score between 0 and 3 please')\n",
    "\n",
    "        scores.iloc[index, -1] = int(score)\n",
    "        count += 1\n",
    "\n",
    "        if count == 20:\n",
    "            scores.to_csv(os.path.join(os.getcwd(), 'Relevance_scores', 'scores_' + name + '.csv'), index=False)\n",
    "            count = 0\n",
    "\n"
   ]
  },
  {
   "cell_type": "code",
   "execution_count": 11,
   "metadata": {},
   "outputs": [
    {
     "name": "stdout",
     "output_type": "stream",
     "text": [
      "Check Relevance_scores folder! Are all team scores done? Has the final score csv been created already?\n"
     ]
    }
   ],
   "source": [
    "team_scores = ['scores_xiao.csv','scores_gracie.csv','scores_lucas.csv','scores_jason.csv']\n",
    "score_directory = os.listdir(os.path.join(os.getcwd(), 'Relevance_scores'))\n",
    "\n",
    "if all(x in score_directory for x in team_scores) and 'scores.csv' not in score_directory:\n",
    "    final_score_df = pd.concat(\n",
    "                [pd.read_csv(os.path.join(os.getcwd(), 'Relevance_scores', team_scores[0])),\n",
    "                 pd.read_csv(os.path.join(os.getcwd(), 'Relevance_scores', team_scores[1])),\n",
    "                 pd.read_csv(os.path.join(os.getcwd(), 'Relevance_scores', team_scores[2])),\n",
    "                 pd.read_csv(os.path.join(os.getcwd(), 'Relevance_scores', team_scores[3]))], axis=0, ignore_index=True)\n",
    "    final_score_df = final_score_df.sort_values(by='Query', ignore_index=True)\n",
    "    final_score_df.to_csv(os.path.join(os.getcwd(), 'Relevance_scores', 'scores.csv'), index=False)\n",
    "\n",
    "else:\n",
    "    print('Check Relevance_scores folder! Are all team scores done? Has the final score csv been created already?')"
   ]
  },
  {
   "cell_type": "code",
   "execution_count": null,
   "metadata": {},
   "outputs": [],
   "source": []
  }
 ],
 "metadata": {
  "kernelspec": {
   "display_name": "IR_final",
   "language": "python",
   "name": "python3"
  },
  "language_info": {
   "codemirror_mode": {
    "name": "ipython",
    "version": 3
   },
   "file_extension": ".py",
   "mimetype": "text/x-python",
   "name": "python",
   "nbconvert_exporter": "python",
   "pygments_lexer": "ipython3",
   "version": "3.12.0"
  }
 },
 "nbformat": 4,
 "nbformat_minor": 2
}
