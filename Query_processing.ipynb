{
 "cells": [
  {
   "cell_type": "code",
   "execution_count": 14,
   "id": "0899dbc4-7519-479b-bfd5-44df42341293",
   "metadata": {},
   "outputs": [
    {
     "name": "stderr",
     "output_type": "stream",
     "text": [
      "[nltk_data] Downloading package punkt to\n",
      "[nltk_data]     /Users/gracieschafer/nltk_data...\n",
      "[nltk_data]   Package punkt is already up-to-date!\n",
      "[nltk_data] Downloading package stopwords to\n",
      "[nltk_data]     /Users/gracieschafer/nltk_data...\n",
      "[nltk_data]   Package stopwords is already up-to-date!\n",
      "[nltk_data] Downloading package wordnet to\n",
      "[nltk_data]     /Users/gracieschafer/nltk_data...\n",
      "[nltk_data]   Package wordnet is already up-to-date!\n"
     ]
    }
   ],
   "source": [
    "import re\n",
    "import pandas as pd\n",
    "import nltk\n",
    "from nltk.corpus import stopwords, wordnet\n",
    "from nltk.tokenize import word_tokenize\n",
    "from spellchecker import SpellChecker\n",
    "import spacy\n",
    "nltk.download('punkt')\n",
    "nltk.download('stopwords')\n",
    "nltk.download('wordnet')\n",
    "import subprocess\n",
    "import sys\n",
    "try:\n",
    "    nlp = spacy.load('en_core_web_sm')\n",
    "except OSError:\n",
    "    subprocess.check_call([sys.executable, \"-m\", \"spacy\", \"download\", \"en_core_web_sm\"])\n",
    "    nlp = spacy.load('en_core_web_sm')\n",
    "stop_words = set(stopwords.words('english'))\n",
    "spell = SpellChecker()\n",
    "def get_synonyms(word):\n",
    "    synonyms = set()\n",
    "    for syn in wordnet.synsets(word):\n",
    "        for lemma in syn.lemmas():\n",
    "            synonyms.add(lemma.name().replace('_', ' '))\n",
    "    return list(synonyms)\n",
    "def process_query(query):\n",
    "    query = query.lower()\n",
    "    query = re.sub(r\"[^\\w\\s-]\", \"\", query)\n",
    "    query = re.sub(r\"[-]\", \" \", query)\n",
    "    token = word_tokenize(query)\n",
    "    tokens = [\n",
    "        spell.correction(word)\n",
    "        for word in token\n",
    "        if word not in stop_words and spell.correction(word) is not None\n",
    "    ]\n",
    "    doc = nlp(' '.join(tokens))\n",
    "    important_terms = [token.lemma_ for token in doc if token.pos_ in ['NOUN', 'PROPN', 'VERB']]\n",
    "    expanded = set(important_terms)\n",
    "    for word in important_terms:\n",
    "        synonyms = get_synonyms(word)\n",
    "        expanded.update(synonyms[:2])\n",
    "    return list(expanded)\n",
    "df = pd.read_csv('queries.csv')\n",
    "df['processed'] = df['Query'].apply(process_query)\n",
    "df['processed_string'] = df['processed'].apply(lambda tokens: ' '.join(tokens))\n",
    "df.to_csv('processed_queries.csv', index=False)"
   ]
  },
  {
   "cell_type": "code",
   "execution_count": null,
   "id": "c0792c82-e815-45ab-9171-5395496753bd",
   "metadata": {},
   "outputs": [],
   "source": []
  },
  {
   "cell_type": "code",
   "execution_count": null,
   "id": "d7d9ed82-41cf-45c3-98ba-87a49880671b",
   "metadata": {},
   "outputs": [],
   "source": []
  }
 ],
 "metadata": {
  "kernelspec": {
   "display_name": "Python 3 (ipykernel)",
   "language": "python",
   "name": "python3"
  },
  "language_info": {
   "codemirror_mode": {
    "name": "ipython",
    "version": 3
   },
   "file_extension": ".py",
   "mimetype": "text/x-python",
   "name": "python",
   "nbconvert_exporter": "python",
   "pygments_lexer": "ipython3",
   "version": "3.12.4"
  }
 },
 "nbformat": 4,
 "nbformat_minor": 5
}
